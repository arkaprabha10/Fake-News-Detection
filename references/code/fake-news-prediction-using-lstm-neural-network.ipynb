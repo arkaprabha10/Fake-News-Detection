{
 "cells": [
  {
   "cell_type": "markdown",
   "source": [
    "## Fake News Detection\n",
    "\n",
    "This kernel will walk through basic usage of an LSTM neural network in order to perform fake news detection."
   ],
   "metadata": {
    "papermill": {
     "duration": 0.020375,
     "end_time": "2021-08-20T17:28:31.771701",
     "exception": false,
     "start_time": "2021-08-20T17:28:31.751326",
     "status": "completed"
    },
    "tags": []
   }
  },
  {
   "cell_type": "code",
   "execution_count": null,
   "source": [
    "import os\r\n",
    "from functools import partial\r\n",
    "from glob import glob\r\n",
    "import pandas as pd\r\n",
    "import numpy as np\r\n",
    "import matplotlib.pyplot as plt\r\n",
    "import torch\r\n",
    "import torch.optim as optim\r\n",
    "import torch.nn as nn\r\n",
    "import torch.nn.functional as F\r\n",
    "from torch.utils.data import Dataset, DataLoader, random_split\r\n",
    "from torchtext.data.utils import get_tokenizer\r\n",
    "from torchtext.vocab import build_vocab_from_iterator\r\n",
    "\r\n",
    "if torch.cuda.is_available():\r\n",
    "    device = 'cuda'\r\n",
    "else:\r\n",
    "    device = 'cpu'"
   ],
   "outputs": [],
   "metadata": {
    "papermill": {
     "duration": 1.479867,
     "end_time": "2021-08-20T17:28:33.269087",
     "exception": false,
     "start_time": "2021-08-20T17:28:31.789220",
     "status": "completed"
    },
    "tags": []
   }
  },
  {
   "cell_type": "markdown",
   "source": [
    "##### First, let's view the data"
   ],
   "metadata": {
    "papermill": {
     "duration": 0.015635,
     "end_time": "2021-08-20T17:28:33.303006",
     "exception": false,
     "start_time": "2021-08-20T17:28:33.287371",
     "status": "completed"
    },
    "tags": []
   }
  },
  {
   "cell_type": "code",
   "execution_count": 2,
   "source": [
    "data = pd.read_csv(\"fake-news/train.csv\")\r\n",
    "data.head()"
   ],
   "outputs": [
    {
     "output_type": "execute_result",
     "data": {
      "text/html": [
       "<div>\n",
       "<style scoped>\n",
       "    .dataframe tbody tr th:only-of-type {\n",
       "        vertical-align: middle;\n",
       "    }\n",
       "\n",
       "    .dataframe tbody tr th {\n",
       "        vertical-align: top;\n",
       "    }\n",
       "\n",
       "    .dataframe thead th {\n",
       "        text-align: right;\n",
       "    }\n",
       "</style>\n",
       "<table border=\"1\" class=\"dataframe\">\n",
       "  <thead>\n",
       "    <tr style=\"text-align: right;\">\n",
       "      <th></th>\n",
       "      <th>id</th>\n",
       "      <th>title</th>\n",
       "      <th>author</th>\n",
       "      <th>text</th>\n",
       "      <th>label</th>\n",
       "    </tr>\n",
       "  </thead>\n",
       "  <tbody>\n",
       "    <tr>\n",
       "      <th>0</th>\n",
       "      <td>0</td>\n",
       "      <td>House Dem Aide: We Didn’t Even See Comey’s Let...</td>\n",
       "      <td>Darrell Lucus</td>\n",
       "      <td>House Dem Aide: We Didn’t Even See Comey’s Let...</td>\n",
       "      <td>1</td>\n",
       "    </tr>\n",
       "    <tr>\n",
       "      <th>1</th>\n",
       "      <td>1</td>\n",
       "      <td>FLYNN: Hillary Clinton, Big Woman on Campus - ...</td>\n",
       "      <td>Daniel J. Flynn</td>\n",
       "      <td>Ever get the feeling your life circles the rou...</td>\n",
       "      <td>0</td>\n",
       "    </tr>\n",
       "    <tr>\n",
       "      <th>2</th>\n",
       "      <td>2</td>\n",
       "      <td>Why the Truth Might Get You Fired</td>\n",
       "      <td>Consortiumnews.com</td>\n",
       "      <td>Why the Truth Might Get You Fired October 29, ...</td>\n",
       "      <td>1</td>\n",
       "    </tr>\n",
       "    <tr>\n",
       "      <th>3</th>\n",
       "      <td>3</td>\n",
       "      <td>15 Civilians Killed In Single US Airstrike Hav...</td>\n",
       "      <td>Jessica Purkiss</td>\n",
       "      <td>Videos 15 Civilians Killed In Single US Airstr...</td>\n",
       "      <td>1</td>\n",
       "    </tr>\n",
       "    <tr>\n",
       "      <th>4</th>\n",
       "      <td>4</td>\n",
       "      <td>Iranian woman jailed for fictional unpublished...</td>\n",
       "      <td>Howard Portnoy</td>\n",
       "      <td>Print \\nAn Iranian woman has been sentenced to...</td>\n",
       "      <td>1</td>\n",
       "    </tr>\n",
       "  </tbody>\n",
       "</table>\n",
       "</div>"
      ],
      "text/plain": [
       "   id                                              title              author  \\\n",
       "0   0  House Dem Aide: We Didn’t Even See Comey’s Let...       Darrell Lucus   \n",
       "1   1  FLYNN: Hillary Clinton, Big Woman on Campus - ...     Daniel J. Flynn   \n",
       "2   2                  Why the Truth Might Get You Fired  Consortiumnews.com   \n",
       "3   3  15 Civilians Killed In Single US Airstrike Hav...     Jessica Purkiss   \n",
       "4   4  Iranian woman jailed for fictional unpublished...      Howard Portnoy   \n",
       "\n",
       "                                                text  label  \n",
       "0  House Dem Aide: We Didn’t Even See Comey’s Let...      1  \n",
       "1  Ever get the feeling your life circles the rou...      0  \n",
       "2  Why the Truth Might Get You Fired October 29, ...      1  \n",
       "3  Videos 15 Civilians Killed In Single US Airstr...      1  \n",
       "4  Print \\nAn Iranian woman has been sentenced to...      1  "
      ]
     },
     "metadata": {},
     "execution_count": 2
    }
   ],
   "metadata": {
    "execution": {
     "iopub.execute_input": "2021-08-20T17:28:33.339956Z",
     "iopub.status.busy": "2021-08-20T17:28:33.339389Z",
     "iopub.status.idle": "2021-08-20T17:28:36.010795Z",
     "shell.execute_reply": "2021-08-20T17:28:36.010346Z",
     "shell.execute_reply.started": "2021-08-20T16:46:52.186036Z"
    },
    "papermill": {
     "duration": 2.690775,
     "end_time": "2021-08-20T17:28:36.010935",
     "exception": false,
     "start_time": "2021-08-20T17:28:33.320160",
     "status": "completed"
    },
    "scrolled": true,
    "tags": []
   }
  },
  {
   "cell_type": "markdown",
   "source": [
    "##### The data needs to be checked for missing values."
   ],
   "metadata": {
    "papermill": {
     "duration": 0.015998,
     "end_time": "2021-08-20T17:28:36.043897",
     "exception": false,
     "start_time": "2021-08-20T17:28:36.027899",
     "status": "completed"
    },
    "tags": []
   }
  },
  {
   "cell_type": "code",
   "execution_count": 3,
   "source": [
    "data.isnull().sum()"
   ],
   "outputs": [
    {
     "output_type": "execute_result",
     "data": {
      "text/plain": [
       "id           0\n",
       "title      558\n",
       "author    1957\n",
       "text        39\n",
       "label        0\n",
       "dtype: int64"
      ]
     },
     "metadata": {},
     "execution_count": 3
    }
   ],
   "metadata": {
    "execution": {
     "iopub.execute_input": "2021-08-20T17:28:36.086439Z",
     "iopub.status.busy": "2021-08-20T17:28:36.085631Z",
     "iopub.status.idle": "2021-08-20T17:28:36.091528Z",
     "shell.execute_reply": "2021-08-20T17:28:36.091920Z",
     "shell.execute_reply.started": "2021-08-20T16:46:53.239249Z"
    },
    "papermill": {
     "duration": 0.032101,
     "end_time": "2021-08-20T17:28:36.092048",
     "exception": false,
     "start_time": "2021-08-20T17:28:36.059947",
     "status": "completed"
    },
    "tags": []
   }
  },
  {
   "cell_type": "markdown",
   "source": [
    "##### Drop the missing values and check the dataframe again."
   ],
   "metadata": {
    "papermill": {
     "duration": 0.016177,
     "end_time": "2021-08-20T17:28:36.124453",
     "exception": false,
     "start_time": "2021-08-20T17:28:36.108276",
     "status": "completed"
    },
    "tags": []
   }
  },
  {
   "cell_type": "code",
   "execution_count": 4,
   "source": [
    "data.dropna(inplace=True)\r\n",
    "data.isnull().sum()"
   ],
   "outputs": [
    {
     "output_type": "execute_result",
     "data": {
      "text/plain": [
       "id        0\n",
       "title     0\n",
       "author    0\n",
       "text      0\n",
       "label     0\n",
       "dtype: int64"
      ]
     },
     "metadata": {},
     "execution_count": 4
    }
   ],
   "metadata": {
    "execution": {
     "iopub.execute_input": "2021-08-20T17:28:36.170654Z",
     "iopub.status.busy": "2021-08-20T17:28:36.169988Z",
     "iopub.status.idle": "2021-08-20T17:28:36.206903Z",
     "shell.execute_reply": "2021-08-20T17:28:36.206477Z",
     "shell.execute_reply.started": "2021-08-20T16:46:53.255413Z"
    },
    "papermill": {
     "duration": 0.065881,
     "end_time": "2021-08-20T17:28:36.207020",
     "exception": false,
     "start_time": "2021-08-20T17:28:36.141139",
     "status": "completed"
    },
    "tags": []
   }
  },
  {
   "cell_type": "code",
   "execution_count": 5,
   "source": [
    "real_news = data[data[\"label\"]==0].values\r\n",
    "fake_news = data[data[\"label\"]==1].values\r\n",
    "plt.bar(0,height=len(real_news))\r\n",
    "plt.bar(1,height=len(fake_news))\r\n",
    "plt.xticks([0,1],[\"Reliable News\",\"Unreliable News\"])\r\n",
    "plt.ylabel(\"Counts\")\r\n",
    "plt.show()"
   ],
   "outputs": [
    {
     "output_type": "display_data",
     "data": {
      "image/png": "[encoded data removed]",
      "text/plain": [
       "<Figure size 432x288 with 1 Axes>"
      ]
     },
     "metadata": {
      "needs_background": "light"
     }
    }
   ],
   "metadata": {
    "execution": {
     "iopub.execute_input": "2021-08-20T17:28:36.247836Z",
     "iopub.status.busy": "2021-08-20T17:28:36.247126Z",
     "iopub.status.idle": "2021-08-20T17:28:36.360748Z",
     "shell.execute_reply": "2021-08-20T17:28:36.361178Z",
     "shell.execute_reply.started": "2021-08-20T16:46:53.281749Z"
    },
    "papermill": {
     "duration": 0.137264,
     "end_time": "2021-08-20T17:28:36.361322",
     "exception": false,
     "start_time": "2021-08-20T17:28:36.224058",
     "status": "completed"
    },
    "tags": []
   }
  },
  {
   "cell_type": "markdown",
   "source": [
    "### Build a Pytorch Dataset.\n",
    "\n",
    "The data has several fields that could be used for prediction. However, since titles often exaggerate the truth to catch the reader's attention, only the text of the news article will be utilized. "
   ],
   "metadata": {
    "papermill": {
     "duration": 0.017035,
     "end_time": "2021-08-20T17:28:36.395702",
     "exception": false,
     "start_time": "2021-08-20T17:28:36.378667",
     "status": "completed"
    },
    "tags": []
   }
  },
  {
   "cell_type": "code",
   "execution_count": 6,
   "source": [
    "class MyDataset(Dataset):\r\n",
    "    def __init__(self, ds):\r\n",
    "        super(MyDataset,self).__init__()\r\n",
    "        self.labels = ds[\"label\"].values\r\n",
    "        self.data = ds[\"text\"].values\r\n",
    "\r\n",
    "    def __getitem__(self, idx):\r\n",
    "        # load data and labels\r\n",
    "        labels = self.labels[idx]\r\n",
    "        data = self.data[idx]\r\n",
    "        return labels, data\r\n",
    "\r\n",
    "    def __len__(self):\r\n",
    "        return len(self.data)"
   ],
   "outputs": [],
   "metadata": {
    "execution": {
     "iopub.execute_input": "2021-08-20T17:28:36.435800Z",
     "iopub.status.busy": "2021-08-20T17:28:36.435275Z",
     "iopub.status.idle": "2021-08-20T17:28:36.439229Z",
     "shell.execute_reply": "2021-08-20T17:28:36.438740Z",
     "shell.execute_reply.started": "2021-08-20T16:46:53.379454Z"
    },
    "papermill": {
     "duration": 0.026147,
     "end_time": "2021-08-20T17:28:36.439334",
     "exception": false,
     "start_time": "2021-08-20T17:28:36.413187",
     "status": "completed"
    },
    "tags": []
   }
  },
  {
   "cell_type": "markdown",
   "source": [
    "##### Print the label and the first 50 words for the first entry in the dataset."
   ],
   "metadata": {
    "papermill": {
     "duration": 0.017073,
     "end_time": "2021-08-20T17:28:36.474414",
     "exception": false,
     "start_time": "2021-08-20T17:28:36.457341",
     "status": "completed"
    },
    "tags": []
   }
  },
  {
   "cell_type": "code",
   "execution_count": 7,
   "source": [
    "ds = MyDataset(data)\r\n",
    "label, text = next(iter(ds))\r\n",
    "label, text[:50]"
   ],
   "outputs": [
    {
     "output_type": "execute_result",
     "data": {
      "text/plain": [
       "(1, 'House Dem Aide: We Didn’t Even See Comey’s Letter ')"
      ]
     },
     "metadata": {},
     "execution_count": 7
    }
   ],
   "metadata": {
    "execution": {
     "iopub.execute_input": "2021-08-20T17:28:36.513923Z",
     "iopub.status.busy": "2021-08-20T17:28:36.513376Z",
     "iopub.status.idle": "2021-08-20T17:28:36.519004Z",
     "shell.execute_reply": "2021-08-20T17:28:36.518593Z",
     "shell.execute_reply.started": "2021-08-20T16:46:53.387035Z"
    },
    "papermill": {
     "duration": 0.027009,
     "end_time": "2021-08-20T17:28:36.519114",
     "exception": false,
     "start_time": "2021-08-20T17:28:36.492105",
     "status": "completed"
    },
    "tags": []
   }
  },
  {
   "cell_type": "markdown",
   "source": [
    "##### Build the vocabulary list."
   ],
   "metadata": {
    "papermill": {
     "duration": 0.017445,
     "end_time": "2021-08-20T17:28:36.553914",
     "exception": false,
     "start_time": "2021-08-20T17:28:36.536469",
     "status": "completed"
    },
    "tags": []
   }
  },
  {
   "cell_type": "code",
   "execution_count": 8,
   "source": [
    "tokenizer = get_tokenizer('basic_english')\n",
    "def yield_tokens(data_iter,tokenizer):\n",
    "    for _,text in data_iter:\n",
    "        yield tokenizer(text)\n",
    "\n",
    "vocab = build_vocab_from_iterator(yield_tokens(ds,tokenizer))"
   ],
   "outputs": [],
   "metadata": {
    "execution": {
     "iopub.execute_input": "2021-08-20T17:28:36.592821Z",
     "iopub.status.busy": "2021-08-20T17:28:36.592313Z",
     "iopub.status.idle": "2021-08-20T17:28:49.896638Z",
     "shell.execute_reply": "2021-08-20T17:28:49.896159Z",
     "shell.execute_reply.started": "2021-08-20T16:46:53.399951Z"
    },
    "papermill": {
     "duration": 13.325385,
     "end_time": "2021-08-20T17:28:49.896785",
     "exception": false,
     "start_time": "2021-08-20T17:28:36.571400",
     "status": "completed"
    },
    "tags": []
   }
  },
  {
   "cell_type": "code",
   "execution_count": 9,
   "source": [
    "def text_pipeline(text,vocab,tokenizer):\n",
    "    tokens = tokenizer(text)\n",
    "    vocab_list = []\n",
    "    for t in tokens:\n",
    "        vocab_list.append(vocab[t])\n",
    "    return vocab_list\n",
    "\n",
    "text_pipeline = partial(text_pipeline,vocab=vocab,tokenizer=tokenizer)"
   ],
   "outputs": [],
   "metadata": {
    "execution": {
     "iopub.execute_input": "2021-08-20T17:28:49.999560Z",
     "iopub.status.busy": "2021-08-20T17:28:49.998671Z",
     "iopub.status.idle": "2021-08-20T17:28:50.001364Z",
     "shell.execute_reply": "2021-08-20T17:28:50.000961Z",
     "shell.execute_reply.started": "2021-08-20T16:47:07.010258Z"
    },
    "papermill": {
     "duration": 0.05549,
     "end_time": "2021-08-20T17:28:50.001475",
     "exception": false,
     "start_time": "2021-08-20T17:28:49.945985",
     "status": "completed"
    },
    "tags": []
   }
  },
  {
   "cell_type": "markdown",
   "source": [
    "#### Test the text pipeline\n",
    "A list/array of words can be fed into the text pipeline to return the index of that word in the vocab list. Words not contained in the vocabulary list return an index of 0."
   ],
   "metadata": {
    "papermill": {
     "duration": 0.048342,
     "end_time": "2021-08-20T17:28:50.098464",
     "exception": false,
     "start_time": "2021-08-20T17:28:50.050122",
     "status": "completed"
    },
    "tags": []
   }
  },
  {
   "cell_type": "code",
   "execution_count": 10,
   "source": [
    "_, text = next(iter(ds))\n",
    "text_pipeline(text)[:5]"
   ],
   "outputs": [
    {
     "output_type": "execute_result",
     "data": {
      "text/plain": [
       "[128, 5754, 2282, 42, 360]"
      ]
     },
     "metadata": {},
     "execution_count": 10
    }
   ],
   "metadata": {
    "execution": {
     "iopub.execute_input": "2021-08-20T17:28:50.201951Z",
     "iopub.status.busy": "2021-08-20T17:28:50.201199Z",
     "iopub.status.idle": "2021-08-20T17:28:50.204664Z",
     "shell.execute_reply": "2021-08-20T17:28:50.204272Z",
     "shell.execute_reply.started": "2021-08-20T16:47:07.017604Z"
    },
    "papermill": {
     "duration": 0.057386,
     "end_time": "2021-08-20T17:28:50.204788",
     "exception": false,
     "start_time": "2021-08-20T17:28:50.147402",
     "status": "completed"
    },
    "tags": []
   }
  },
  {
   "cell_type": "markdown",
   "source": [
    "##### The data should be checked for a distribution of the sequence lengths"
   ],
   "metadata": {
    "papermill": {
     "duration": 0.048074,
     "end_time": "2021-08-20T17:28:50.301694",
     "exception": false,
     "start_time": "2021-08-20T17:28:50.253620",
     "status": "completed"
    },
    "tags": []
   }
  },
  {
   "cell_type": "code",
   "execution_count": 11,
   "source": [
    "ds_iter = iter(ds)\n",
    "all_ds_lengths = []\n",
    "for d in ds_iter:\n",
    "    _, text = d\n",
    "    all_ds_lengths.append(len(text_pipeline(text)))\n",
    "\n",
    "plt.hist(all_ds_lengths,100)\n",
    "plt.xlabel(\"Number of Words in Sequence\")\n",
    "plt.ylabel(\"Counts\")\n",
    "plt.show()"
   ],
   "outputs": [
    {
     "output_type": "display_data",
     "data": {
      "image/png": "[encoded data removed]",
      "text/plain": [
       "<Figure size 432x288 with 1 Axes>"
      ]
     },
     "metadata": {
      "needs_background": "light"
     }
    }
   ],
   "metadata": {
    "execution": {
     "iopub.execute_input": "2021-08-20T17:28:50.418431Z",
     "iopub.status.busy": "2021-08-20T17:28:50.406093Z",
     "iopub.status.idle": "2021-08-20T17:29:09.735566Z",
     "shell.execute_reply": "2021-08-20T17:29:09.734744Z"
    },
    "papermill": {
     "duration": 19.385554,
     "end_time": "2021-08-20T17:29:09.735703",
     "exception": false,
     "start_time": "2021-08-20T17:28:50.350149",
     "status": "completed"
    },
    "tags": []
   }
  },
  {
   "cell_type": "markdown",
   "source": [
    "### The maximum sequence length could be set at 2,500 words without affecting too much of the data.\n",
    "\n",
    "An argument could also be given about how the gist of an article could be resolved in fewer than 2,500 words. A transformation function needs to be written to implement this."
   ],
   "metadata": {
    "papermill": {
     "duration": 0.049844,
     "end_time": "2021-08-20T17:29:09.835928",
     "exception": false,
     "start_time": "2021-08-20T17:29:09.786084",
     "status": "completed"
    },
    "tags": []
   }
  },
  {
   "cell_type": "code",
   "execution_count": 12,
   "source": [
    "def collate_batch(batch,text_pipeline,max_seq_len,device):\n",
    "    data = torch.zeros((len(batch),max_seq_len),dtype=torch.int64)\n",
    "    labels = torch.zeros((len(batch)),dtype=torch.int64)\n",
    "    for index,data_tuple in enumerate(batch):\n",
    "        processed_text = torch.tensor(text_pipeline(data_tuple[1]), dtype=torch.int64)\n",
    "        data[index,:len(processed_text)] = processed_text[:max_seq_len]\n",
    "        labels[index] = data_tuple[0]\n",
    "    return labels.to(device), data.to(device)\n",
    "\n",
    "max_seq_len = 1000\n",
    "col_fn = partial(collate_batch,text_pipeline=text_pipeline,max_seq_len=max_seq_len,device=device)"
   ],
   "outputs": [],
   "metadata": {
    "execution": {
     "iopub.execute_input": "2021-08-20T17:29:09.943260Z",
     "iopub.status.busy": "2021-08-20T17:29:09.942466Z",
     "iopub.status.idle": "2021-08-20T17:29:09.945261Z",
     "shell.execute_reply": "2021-08-20T17:29:09.944844Z"
    },
    "papermill": {
     "duration": 0.059396,
     "end_time": "2021-08-20T17:29:09.945375",
     "exception": false,
     "start_time": "2021-08-20T17:29:09.885979",
     "status": "completed"
    },
    "tags": []
   }
  },
  {
   "cell_type": "markdown",
   "source": [
    "#### Create the LSTM model\n",
    "The embedding layer turns the vectorized text into dense vectors where related words will have a higher similarity to each other. The similarity between words becomes a useful feature vector, and helps the neural network make predictions.\n",
    "\n",
    "The LSTM (Long Short-Term Memory) is a special type of RNN (Recurrent Neural Network) that circumvents the \"vanishing\" or \"exploding\" gradient problem seen by RNNs.\n",
    "\n",
    "Finally the fully-connected layer outputs values which are used to predict the truth of the text read by the neural network."
   ],
   "metadata": {
    "papermill": {
     "duration": 0.049987,
     "end_time": "2021-08-20T17:29:10.045243",
     "exception": false,
     "start_time": "2021-08-20T17:29:09.995256",
     "status": "completed"
    },
    "tags": []
   }
  },
  {
   "cell_type": "code",
   "execution_count": 13,
   "source": [
    "class NewsPrediction(torch.nn.Module):\n",
    "    def __init__(self,vocab_length,embedding_dim,seq_len,num_layers,num_hidden):\n",
    "        super(NewsPrediction,self).__init__()\n",
    "        self.embedding = nn.Embedding(vocab_length,embedding_dim,max_norm=True)\n",
    "        self.lstm = nn.LSTM(input_size=embedding_dim,hidden_size=num_hidden,num_layers=num_layers,batch_first=True)\n",
    "        self.fc = nn.Linear(seq_len*num_hidden,2)\n",
    "    \n",
    "    def forward(self, x):\n",
    "        x = self.embedding(x)\n",
    "        x, _ = self.lstm(x)\n",
    "        x = torch.reshape(x, (x.size(0),-1,))\n",
    "        x = self.fc(x)\n",
    "        return F.log_softmax(x,dim=-1)"
   ],
   "outputs": [],
   "metadata": {
    "execution": {
     "iopub.execute_input": "2021-08-20T17:29:10.152202Z",
     "iopub.status.busy": "2021-08-20T17:29:10.151508Z",
     "iopub.status.idle": "2021-08-20T17:29:10.154333Z",
     "shell.execute_reply": "2021-08-20T17:29:10.153912Z"
    },
    "papermill": {
     "duration": 0.059209,
     "end_time": "2021-08-20T17:29:10.154454",
     "exception": false,
     "start_time": "2021-08-20T17:29:10.095245",
     "status": "completed"
    },
    "tags": []
   }
  },
  {
   "cell_type": "markdown",
   "source": [
    "##### Initialize the model and create an iterable dataset"
   ],
   "metadata": {
    "papermill": {
     "duration": 0.050426,
     "end_time": "2021-08-20T17:29:10.254979",
     "exception": false,
     "start_time": "2021-08-20T17:29:10.204553",
     "status": "completed"
    },
    "tags": []
   }
  },
  {
   "cell_type": "code",
   "execution_count": 14,
   "source": [
    "batch_size = 512\n",
    "model = NewsPrediction(len(vocab),embedding_dim=32,seq_len=max_seq_len,num_layers=1,num_hidden=32)\n",
    "model.to(device)\n",
    "dl = DataLoader(ds,batch_size=batch_size,shuffle=True,num_workers=0,collate_fn=col_fn)"
   ],
   "outputs": [],
   "metadata": {
    "execution": {
     "iopub.execute_input": "2021-08-20T17:29:10.361885Z",
     "iopub.status.busy": "2021-08-20T17:29:10.361184Z",
     "iopub.status.idle": "2021-08-20T17:29:15.674401Z",
     "shell.execute_reply": "2021-08-20T17:29:15.673890Z"
    },
    "papermill": {
     "duration": 5.369021,
     "end_time": "2021-08-20T17:29:15.674532",
     "exception": false,
     "start_time": "2021-08-20T17:29:10.305511",
     "status": "completed"
    },
    "tags": []
   }
  },
  {
   "cell_type": "markdown",
   "source": [
    "##### Set the optimization algorithm, loss function, and split the dataset into training and validation"
   ],
   "metadata": {
    "papermill": {
     "duration": 0.050067,
     "end_time": "2021-08-20T17:29:15.775901",
     "exception": false,
     "start_time": "2021-08-20T17:29:15.725834",
     "status": "completed"
    },
    "tags": []
   }
  },
  {
   "cell_type": "code",
   "execution_count": 15,
   "source": [
    "criterion = nn.CrossEntropyLoss()\n",
    "optimizer = optim.Adam(params=model.parameters())\n",
    "\n",
    "num_train = int(len(dl)*0.8)\n",
    "num_valid = len(dl) - num_train\n",
    "training_data, validation_data = random_split(dl, [num_train,num_valid])\n",
    "datasets = {\"Training\":training_data.dataset, \"Validation\":validation_data.dataset}"
   ],
   "outputs": [],
   "metadata": {
    "execution": {
     "iopub.execute_input": "2021-08-20T17:29:15.883612Z",
     "iopub.status.busy": "2021-08-20T17:29:15.883042Z",
     "iopub.status.idle": "2021-08-20T17:29:15.887743Z",
     "shell.execute_reply": "2021-08-20T17:29:15.887320Z"
    },
    "papermill": {
     "duration": 0.061792,
     "end_time": "2021-08-20T17:29:15.887867",
     "exception": false,
     "start_time": "2021-08-20T17:29:15.826075",
     "status": "completed"
    },
    "tags": []
   }
  },
  {
   "cell_type": "code",
   "execution_count": null,
   "source": [
    "num_epoch = 10\n",
    "weights_path = r\"../input/fake-news/model_weights.pt\"\n",
    "val_losses = [np.inf]\n",
    "no_improvement = 0\n",
    "for epoch in range(num_epoch):\n",
    "    for d in datasets:\n",
    "        if d == \"Training\":\n",
    "            model.train(True)\n",
    "        else:\n",
    "            model.train(False)\n",
    "        dataset = datasets[d]\n",
    "        total_pts = 0\n",
    "        running_loss, running_acc = 0.0, 0.0\n",
    "        for i, sample in enumerate(dataset):\n",
    "            labels,data = sample\n",
    "            optimizer.zero_grad()\n",
    "            out = model(data)\n",
    "            _, pred = torch.max(out, 1)\n",
    "            num_correct = (pred == labels).sum()\n",
    "            loss = criterion(out,labels)\n",
    "            if d == \"Training\":\n",
    "                loss.backward()\n",
    "                optimizer.step()\n",
    "            running_loss += loss.item()\n",
    "            running_acc  += num_correct.data.item()\n",
    "            total_pts += len(sample[0])\n",
    "\n",
    "        print(\"Epoch {}, {} Loss: {}, Accuracy: {}\".format(epoch + 1, d, running_loss / i, running_acc / total_pts * 100))\n",
    "        if d == \"Validation\":\n",
    "            val_loss = running_loss / i\n",
    "            if all(val_losses < np.array(val_loss)):\n",
    "                torch.save(model.state_dict(),weights_path)\n",
    "                no_improvement = 0\n",
    "            else:\n",
    "                no_improvement += 1\n",
    "            val_losses.append(val_loss)\n",
    "            if no_improvement == 3:\n",
    "                break"
   ],
   "outputs": [],
   "metadata": {
    "execution": {
     "iopub.execute_input": "2021-08-20T17:29:16.000011Z",
     "iopub.status.busy": "2021-08-20T17:29:15.999287Z",
     "iopub.status.idle": "2021-08-20T17:36:42.992691Z",
     "shell.execute_reply": "2021-08-20T17:36:42.993333Z"
    },
    "papermill": {
     "duration": 447.055269,
     "end_time": "2021-08-20T17:36:42.993535",
     "exception": false,
     "start_time": "2021-08-20T17:29:15.938266",
     "status": "completed"
    },
    "tags": []
   }
  }
 ],
 "metadata": {
  "kernelspec": {
   "display_name": "Python 3 (ipykernel)",
   "language": "python",
   "name": "python3"
  },
  "language_info": {
   "codemirror_mode": {
    "name": "ipython",
    "version": 3
   },
   "file_extension": ".py",
   "mimetype": "text/x-python",
   "name": "python",
   "nbconvert_exporter": "python",
   "pygments_lexer": "ipython3",
   "version": "3.8.10"
  },
  "papermill": {
   "default_parameters": {},
   "duration": 499.80253,
   "end_time": "2021-08-20T17:36:44.626792",
   "environment_variables": {},
   "exception": null,
   "input_path": "__notebook__.ipynb",
   "output_path": "__notebook__.ipynb",
   "parameters": {},
   "start_time": "2021-08-20T17:28:24.824262",
   "version": "2.3.3"
  }
 },
 "nbformat": 4,
 "nbformat_minor": 5
}