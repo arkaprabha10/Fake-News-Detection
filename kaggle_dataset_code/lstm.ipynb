{
  "nbformat": 4,
  "nbformat_minor": 0,
  "metadata": {
    "colab": {
      "name": "lstm.ipynb",
      "provenance": []
    },
    "kernelspec": {
      "name": "python3",
      "display_name": "Python 3"
    },
    "language_info": {
      "name": "python"
    }
  },
  "cells": [
    {
      "cell_type": "code",
      "metadata": {
        "colab": {
          "base_uri": "https://localhost:8080/"
        },
        "id": "E38PewWnTZsH",
        "outputId": "974fae69-40d3-48e7-a186-e23988fb37cb"
      },
      "source": [
        "from google.colab import drive\n",
        "drive.mount('/content/drive')"
      ],
      "execution_count": null,
      "outputs": [
        {
          "output_type": "stream",
          "name": "stdout",
          "text": [
            "Mounted at /content/drive\n"
          ]
        }
      ]
    },
    {
      "cell_type": "code",
      "metadata": {
        "id": "3MwpX9tPTXCv"
      },
      "source": [
        "import numpy as np\n",
        "import pandas as pd\n",
        "import tensorflow as tf\n",
        "import os\n",
        "import re\n",
        "import seaborn as sns\n",
        "from sklearn.model_selection import train_test_split\n",
        "from sklearn.metrics import classification_report, confusion_matrix\n",
        "import matplotlib.pyplot as plt"
      ],
      "execution_count": null,
      "outputs": []
    },
    {
      "cell_type": "code",
      "metadata": {
        "id": "swa-mwSxTvhJ"
      },
      "source": [
        "import tensorflow as tf\n",
        "from tensorflow.keras.models import Sequential\n",
        "from tensorflow.keras.layers import Dense, Dropout, LSTM, Embedding, Bidirectional"
      ],
      "execution_count": 59,
      "outputs": []
    },
    {
      "cell_type": "code",
      "metadata": {
        "id": "mkVHXgRLT4bB"
      },
      "source": [
        "X_train = pd.read_csv('/content/drive/MyDrive/ML_Project/data/fake-news/text_seq_data/word_seq_train.csv')\n",
        "X_test = pd.read_csv('/content/drive/MyDrive/ML_Project/data/fake-news/text_seq_data/word_seq_test.csv')\n",
        "X_valid = pd.read_csv('/content/drive/MyDrive/ML_Project/data/fake-news/text_seq_data/word_seq_valid.csv')\n",
        "\n",
        "y_train = pd.read_csv('/content/drive/MyDrive/ML_Project/data/fake-news/label_seq_data/train_label.csv')\n",
        "y_test = pd.read_csv('/content/drive/MyDrive/ML_Project/data/fake-news/label_seq_data/test_label.csv')\n",
        "y_valid = pd.read_csv('/content/drive/MyDrive/ML_Project/data/fake-news/label_seq_data/valid_label.csv')\n",
        "\n",
        "vocab_size = int(np.loadtxt('/content/drive/MyDrive/ML_Project/data/fake-news/vocab_size_text.txt'))"
      ],
      "execution_count": null,
      "outputs": []
    },
    {
      "cell_type": "code",
      "metadata": {
        "colab": {
          "base_uri": "https://localhost:8080/"
        },
        "id": "lHsYK9Q_fBWW",
        "outputId": "8415effc-22c6-4a8a-c952-c5ff04ae2919"
      },
      "source": [
        "print(vocab_size)"
      ],
      "execution_count": null,
      "outputs": [
        {
          "output_type": "stream",
          "name": "stdout",
          "text": [
            "193874\n"
          ]
        }
      ]
    },
    {
      "cell_type": "code",
      "metadata": {
        "colab": {
          "base_uri": "https://localhost:8080/"
        },
        "id": "jMMs8tbuXEQV",
        "outputId": "11ed5aec-937c-4a28-de91-232db5b47062"
      },
      "source": [
        "X_train.shape, X_test.shape, X_valid.shape"
      ],
      "execution_count": null,
      "outputs": [
        {
          "output_type": "execute_result",
          "data": {
            "text/plain": [
              "((10942, 1200), (3652, 1200), (3617, 1200))"
            ]
          },
          "metadata": {},
          "execution_count": 14
        }
      ]
    },
    {
      "cell_type": "markdown",
      "metadata": {
        "id": "suaXG0PU35T8"
      },
      "source": [
        "# LSTM"
      ]
    },
    {
      "cell_type": "markdown",
      "metadata": {
        "id": "mjDrxCNog9-k"
      },
      "source": [
        "The LSTM model includes:\n",
        "- a layer of embeddings, \n",
        "- Dropout(0.2), \n",
        "- LSTM(4), \n",
        "- Dropout(0.3), \n",
        "- fully connected layer with 100 units and activation function ReLu,\n",
        "- Dropout(0.4) and fully connected layer with activation function sigmoid. \n",
        "\n",
        "LSTM network was trained on full-text data using the first 1200 words of the articles (because of memory limitations)."
      ]
    },
    {
      "cell_type": "code",
      "metadata": {
        "colab": {
          "base_uri": "https://localhost:8080/"
        },
        "id": "UA2WXEAIXUJt",
        "outputId": "4c3285ba-30a7-4f53-87cc-6d48ce9e45f3"
      },
      "source": [
        "model = Sequential()\n",
        "model.add(Embedding(input_dim=vocab_size, input_length=1200, output_dim=4))\n",
        "model.add(Dropout(rate=0.2))\n",
        "model.add(LSTM(units=4))\n",
        "model.add(Dropout(rate=0.3))\n",
        "model.add(Dense(units=100,  activation='relu'))\n",
        "model.add(Dropout(rate=0.4))\n",
        "model.add(Dense(units=2, activation='sigmoid'))\n",
        "\n",
        "model.summary()"
      ],
      "execution_count": null,
      "outputs": [
        {
          "output_type": "stream",
          "name": "stdout",
          "text": [
            "Model: \"sequential_9\"\n",
            "_________________________________________________________________\n",
            " Layer (type)                Output Shape              Param #   \n",
            "=================================================================\n",
            " embedding_6 (Embedding)     (None, 1200, 4)           775496    \n",
            "                                                                 \n",
            " dropout_15 (Dropout)        (None, 1200, 4)           0         \n",
            "                                                                 \n",
            " lstm_6 (LSTM)               (None, 4)                 144       \n",
            "                                                                 \n",
            " dropout_16 (Dropout)        (None, 4)                 0         \n",
            "                                                                 \n",
            " dense_12 (Dense)            (None, 100)               500       \n",
            "                                                                 \n",
            " dropout_17 (Dropout)        (None, 100)               0         \n",
            "                                                                 \n",
            " dense_13 (Dense)            (None, 2)                 202       \n",
            "                                                                 \n",
            "=================================================================\n",
            "Total params: 776,342\n",
            "Trainable params: 776,342\n",
            "Non-trainable params: 0\n",
            "_________________________________________________________________\n"
          ]
        }
      ]
    },
    {
      "cell_type": "code",
      "metadata": {
        "id": "Atl4bwyfYFqq"
      },
      "source": [
        "model.compile(optimizer = 'adam', loss = 'sparse_categorical_crossentropy', metrics = ['accuracy'])"
      ],
      "execution_count": null,
      "outputs": []
    },
    {
      "cell_type": "code",
      "metadata": {
        "colab": {
          "base_uri": "https://localhost:8080/"
        },
        "id": "BjdVWBBGX5ZM",
        "outputId": "762cafba-a27c-4ff4-d341-17afe006fc18"
      },
      "source": [
        "history = model.fit(\n",
        "    X_train, \n",
        "    y_train, \n",
        "    validation_data=[X_valid, y_valid],\n",
        "    epochs = 10\n",
        ")"
      ],
      "execution_count": null,
      "outputs": [
        {
          "output_type": "stream",
          "name": "stdout",
          "text": [
            "Epoch 1/10\n",
            "342/342 [==============================] - 178s 514ms/step - loss: 0.4583 - accuracy: 0.7695 - val_loss: 0.2444 - val_accuracy: 0.9093\n",
            "Epoch 2/10\n",
            "342/342 [==============================] - 176s 515ms/step - loss: 0.1745 - accuracy: 0.9421 - val_loss: 0.1787 - val_accuracy: 0.9359\n",
            "Epoch 3/10\n",
            "342/342 [==============================] - 176s 514ms/step - loss: 0.0845 - accuracy: 0.9760 - val_loss: 0.1973 - val_accuracy: 0.9425\n",
            "Epoch 4/10\n",
            "342/342 [==============================] - 175s 512ms/step - loss: 0.0645 - accuracy: 0.9814 - val_loss: 0.3304 - val_accuracy: 0.8723\n",
            "Epoch 5/10\n",
            "342/342 [==============================] - 175s 511ms/step - loss: 0.1043 - accuracy: 0.9758 - val_loss: 0.2006 - val_accuracy: 0.9301\n",
            "Epoch 6/10\n",
            "342/342 [==============================] - 175s 512ms/step - loss: 0.0338 - accuracy: 0.9899 - val_loss: 0.2455 - val_accuracy: 0.9400\n",
            "Epoch 7/10\n",
            "342/342 [==============================] - 174s 508ms/step - loss: 0.0251 - accuracy: 0.9929 - val_loss: 0.2755 - val_accuracy: 0.9364\n",
            "Epoch 8/10\n",
            "342/342 [==============================] - 176s 516ms/step - loss: 0.0281 - accuracy: 0.9896 - val_loss: 0.2888 - val_accuracy: 0.9395\n",
            "Epoch 9/10\n",
            "342/342 [==============================] - 176s 514ms/step - loss: 0.0122 - accuracy: 0.9947 - val_loss: 0.3398 - val_accuracy: 0.9364\n",
            "Epoch 10/10\n",
            "342/342 [==============================] - 176s 514ms/step - loss: 0.0188 - accuracy: 0.9922 - val_loss: 0.3583 - val_accuracy: 0.9336\n"
          ]
        }
      ]
    },
    {
      "cell_type": "code",
      "metadata": {
        "id": "iugIUyrvmffz"
      },
      "source": [
        "y_probas = model.predict(X_test)\n",
        "y_pred = y_probas.argmax(axis=-1)"
      ],
      "execution_count": null,
      "outputs": []
    },
    {
      "cell_type": "code",
      "metadata": {
        "colab": {
          "base_uri": "https://localhost:8080/"
        },
        "id": "7K202FaBt_D9",
        "outputId": "7c90dc78-53c5-4645-f416-bf56c6e37daf"
      },
      "source": [
        "print(classification_report(y_true=y_test, y_pred=y_pred))"
      ],
      "execution_count": null,
      "outputs": [
        {
          "output_type": "stream",
          "name": "stdout",
          "text": [
            "              precision    recall  f1-score   support\n",
            "\n",
            "           0       0.96      0.93      0.95      2042\n",
            "           1       0.92      0.95      0.94      1610\n",
            "\n",
            "    accuracy                           0.94      3652\n",
            "   macro avg       0.94      0.94      0.94      3652\n",
            "weighted avg       0.94      0.94      0.94      3652\n",
            "\n"
          ]
        }
      ]
    },
    {
      "cell_type": "code",
      "metadata": {
        "colab": {
          "base_uri": "https://localhost:8080/",
          "height": 374
        },
        "id": "mK_iLHVMuevh",
        "outputId": "1a472edb-dbaf-4f82-d449-ec9280122384"
      },
      "source": [
        "cm = confusion_matrix(y_test, y_pred)\n",
        "plt.figure(figsize = (8, 6))\n",
        "sns.heatmap(cm, annot = True)\n",
        "plt.show()"
      ],
      "execution_count": null,
      "outputs": [
        {
          "output_type": "display_data",
          "data": {
            "image/png": "[encoded data removed]",
            "text/plain": [
              "<Figure size 576x432 with 2 Axes>"
            ]
          },
          "metadata": {
            "needs_background": "light"
          }
        }
      ]
    },
    {
      "cell_type": "markdown",
      "metadata": {
        "id": "u7SBOIqK391A"
      },
      "source": [
        "# Bi-LSTM"
      ]
    },
    {
      "cell_type": "markdown",
      "metadata": {
        "id": "ljJP3P4v391A"
      },
      "source": [
        "The Bi-LSTM model includes:\n",
        "- a layer of embeddings, \n",
        "- Dropout(0.2), \n",
        "- Bi-LSTM(4), \n",
        "- Dropout(0.3), \n",
        "- fully connected layer with 100 units and activation function ReLu,\n",
        "- Dropout(0.4) and fully connected layer with activation function sigmoid. \n",
        "\n",
        "Bi-LSTM network was trained on full-text data using the first 1200 words of the articles (because of memory limitations)."
      ]
    },
    {
      "cell_type": "code",
      "metadata": {
        "colab": {
          "base_uri": "https://localhost:8080/"
        },
        "id": "eQ5b3Bsn391B",
        "outputId": "75c67e02-8da8-4792-e1cd-dcb88afaa6c2"
      },
      "source": [
        "model = Sequential()\n",
        "model.add(Embedding(input_dim=vocab_size, input_length=1200, output_dim=4))\n",
        "model.add(Dropout(rate=0.2))\n",
        "model.add(Bidirectional(LSTM(units=4)))\n",
        "model.add(Dropout(rate=0.3))\n",
        "model.add(Dense(units=100,  activation='relu'))\n",
        "model.add(Dropout(rate=0.4))\n",
        "model.add(Dense(units=2, activation='sigmoid'))\n",
        "\n",
        "model.summary()"
      ],
      "execution_count": 60,
      "outputs": [
        {
          "output_type": "stream",
          "name": "stdout",
          "text": [
            "Model: \"sequential_10\"\n",
            "_________________________________________________________________\n",
            " Layer (type)                Output Shape              Param #   \n",
            "=================================================================\n",
            " embedding_7 (Embedding)     (None, 1200, 4)           775496    \n",
            "                                                                 \n",
            " dropout_18 (Dropout)        (None, 1200, 4)           0         \n",
            "                                                                 \n",
            " bidirectional (Bidirectiona  (None, 8)                288       \n",
            " l)                                                              \n",
            "                                                                 \n",
            " dropout_19 (Dropout)        (None, 8)                 0         \n",
            "                                                                 \n",
            " dense_14 (Dense)            (None, 100)               900       \n",
            "                                                                 \n",
            " dropout_20 (Dropout)        (None, 100)               0         \n",
            "                                                                 \n",
            " dense_15 (Dense)            (None, 2)                 202       \n",
            "                                                                 \n",
            "=================================================================\n",
            "Total params: 776,886\n",
            "Trainable params: 776,886\n",
            "Non-trainable params: 0\n",
            "_________________________________________________________________\n"
          ]
        }
      ]
    },
    {
      "cell_type": "code",
      "metadata": {
        "id": "oqG91HDo391C"
      },
      "source": [
        "model.compile(optimizer = 'adam', loss = 'sparse_categorical_crossentropy', metrics = ['accuracy'])"
      ],
      "execution_count": 61,
      "outputs": []
    },
    {
      "cell_type": "code",
      "metadata": {
        "colab": {
          "base_uri": "https://localhost:8080/"
        },
        "id": "P1ugGjyv391C",
        "outputId": "882e34a4-3bdb-4eed-a9a3-5137dd56a05c"
      },
      "source": [
        "history = model.fit(\n",
        "    X_train, \n",
        "    y_train, \n",
        "    validation_data=[X_valid, y_valid],\n",
        "    epochs = 10\n",
        ")"
      ],
      "execution_count": 62,
      "outputs": [
        {
          "output_type": "stream",
          "name": "stdout",
          "text": [
            "Epoch 1/10\n",
            "342/342 [==============================] - 297s 855ms/step - loss: 0.4903 - accuracy: 0.7436 - val_loss: 0.2431 - val_accuracy: 0.9113\n",
            "Epoch 2/10\n",
            "342/342 [==============================] - 290s 849ms/step - loss: 0.3342 - accuracy: 0.8640 - val_loss: 0.3906 - val_accuracy: 0.8349\n",
            "Epoch 3/10\n",
            "342/342 [==============================] - 292s 853ms/step - loss: 0.1926 - accuracy: 0.9286 - val_loss: 0.1911 - val_accuracy: 0.9320\n",
            "Epoch 4/10\n",
            "342/342 [==============================] - 293s 858ms/step - loss: 0.1094 - accuracy: 0.9636 - val_loss: 0.2157 - val_accuracy: 0.9157\n",
            "Epoch 5/10\n",
            "342/342 [==============================] - 292s 854ms/step - loss: 0.0689 - accuracy: 0.9789 - val_loss: 0.2317 - val_accuracy: 0.9289\n",
            "Epoch 6/10\n",
            "342/342 [==============================] - 292s 855ms/step - loss: 0.0494 - accuracy: 0.9844 - val_loss: 0.2286 - val_accuracy: 0.9295\n",
            "Epoch 7/10\n",
            "342/342 [==============================] - 293s 857ms/step - loss: 0.0337 - accuracy: 0.9896 - val_loss: 0.2597 - val_accuracy: 0.9306\n",
            "Epoch 8/10\n",
            "342/342 [==============================] - 294s 859ms/step - loss: 0.0247 - accuracy: 0.9921 - val_loss: 0.5680 - val_accuracy: 0.8584\n",
            "Epoch 9/10\n",
            "342/342 [==============================] - 293s 856ms/step - loss: 0.0429 - accuracy: 0.9856 - val_loss: 0.2864 - val_accuracy: 0.9212\n",
            "Epoch 10/10\n",
            "342/342 [==============================] - 292s 854ms/step - loss: 0.0216 - accuracy: 0.9930 - val_loss: 0.3359 - val_accuracy: 0.9099\n"
          ]
        }
      ]
    },
    {
      "cell_type": "code",
      "metadata": {
        "id": "Q33ayXcN391C"
      },
      "source": [
        "y_probas = model.predict(X_test)\n",
        "y_pred = y_probas.argmax(axis=-1)"
      ],
      "execution_count": 63,
      "outputs": []
    },
    {
      "cell_type": "code",
      "metadata": {
        "colab": {
          "base_uri": "https://localhost:8080/"
        },
        "id": "RstG1HfX391D",
        "outputId": "762d495f-3c3d-4cfa-cd81-25a63ffc1db3"
      },
      "source": [
        "print(classification_report(y_true=y_test, y_pred=y_pred))"
      ],
      "execution_count": 64,
      "outputs": [
        {
          "output_type": "stream",
          "name": "stdout",
          "text": [
            "              precision    recall  f1-score   support\n",
            "\n",
            "           0       0.94      0.90      0.92      2042\n",
            "           1       0.88      0.92      0.90      1610\n",
            "\n",
            "    accuracy                           0.91      3652\n",
            "   macro avg       0.91      0.91      0.91      3652\n",
            "weighted avg       0.91      0.91      0.91      3652\n",
            "\n"
          ]
        }
      ]
    },
    {
      "cell_type": "code",
      "metadata": {
        "colab": {
          "base_uri": "https://localhost:8080/",
          "height": 374
        },
        "id": "Pdn6UFT7391D",
        "outputId": "88a4dab0-9af9-4d7d-a3b5-5a9542a34c55"
      },
      "source": [
        "cm = confusion_matrix(y_test, y_pred)\n",
        "plt.figure(figsize = (8, 6))\n",
        "sns.heatmap(cm, annot = True)\n",
        "plt.show()"
      ],
      "execution_count": 65,
      "outputs": [
        {
          "output_type": "display_data",
          "data": {
            "image/png": "[encoded data removed]",
            "text/plain": [
              "<Figure size 576x432 with 2 Axes>"
            ]
          },
          "metadata": {
            "needs_background": "light"
          }
        }
      ]
    }
  ]
}