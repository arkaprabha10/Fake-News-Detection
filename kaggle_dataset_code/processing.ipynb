{
 "cells": [
  {
   "cell_type": "code",
   "execution_count": 36,
   "metadata": {
    "colab": {
     "base_uri": "https://localhost:8080/"
    },
    "id": "_uXM_XXseher",
    "outputId": "78b1f125-ca94-479f-8cdd-0981a2b54234"
   },
   "outputs": [],
   "source": [
    "import numpy as np\n",
    "import pandas as pd\n",
    "from nltk import word_tokenize, sent_tokenize\n",
    "from string import punctuation\n",
    "from nltk.corpus import stopwords"
   ]
  },
  {
   "cell_type": "code",
   "execution_count": 74,
   "metadata": {
    "colab": {
     "base_uri": "https://localhost:8080/",
     "height": 203
    },
    "id": "y6Q9annxehfK",
    "outputId": "a837050b-dada-4726-c04e-617ab4e1c52e"
   },
   "outputs": [],
   "source": [
    "df = pd.read_csv('../data/fake-news/train.csv')"
   ]
  },
  {
   "cell_type": "code",
   "execution_count": 113,
   "metadata": {},
   "outputs": [
    {
     "data": {
      "text/plain": [
       "id        10942\n",
       "title     10942\n",
       "author    10942\n",
       "text      10942\n",
       "label     10942\n",
       "dtype: int64"
      ]
     },
     "execution_count": 113,
     "metadata": {},
     "output_type": "execute_result"
    }
   ],
   "source": [
    "train = df[:int(0.6*len(df))].copy()\n",
    "train.dropna(inplace=True)\n",
    "train.drop(index=train[train.text==' '].index, inplace=True)\n",
    "train.drop(index=train[train.text=='  '].index, inplace=True)\n",
    "train.drop(index=train[train.text=='\\n'].index, inplace=True)\n",
    "train.count()"
   ]
  },
  {
   "cell_type": "code",
   "execution_count": 114,
   "metadata": {},
   "outputs": [
    {
     "data": {
      "text/plain": [
       "id        3617\n",
       "title     3617\n",
       "author    3617\n",
       "text      3617\n",
       "label     3617\n",
       "dtype: int64"
      ]
     },
     "execution_count": 114,
     "metadata": {},
     "output_type": "execute_result"
    }
   ],
   "source": [
    "valid = df[int(0.6*len(df)):int(0.8*len(df))].copy()\n",
    "valid.dropna(inplace=True)\n",
    "valid.drop(index=valid[valid.text==' '].index, inplace=True)\n",
    "valid.drop(index=valid[valid.text=='  '].index, inplace=True)\n",
    "valid.drop(index=valid[valid.text=='\\n'].index, inplace=True)\n",
    "valid.count()"
   ]
  },
  {
   "cell_type": "code",
   "execution_count": 115,
   "metadata": {},
   "outputs": [
    {
     "data": {
      "text/plain": [
       "id        3652\n",
       "title     3652\n",
       "author    3652\n",
       "text      3652\n",
       "label     3652\n",
       "dtype: int64"
      ]
     },
     "execution_count": 115,
     "metadata": {},
     "output_type": "execute_result"
    }
   ],
   "source": [
    "test = df[int(0.8*len(df)):].copy()\n",
    "test.dropna(inplace=True)\n",
    "test.drop(index=test[test.text==' '].index, inplace=True)\n",
    "test.drop(index=test[test.text=='  '].index, inplace=True)\n",
    "test.drop(index=test[test.text=='\\n'].index, inplace=True)\n",
    "test.count()"
   ]
  },
  {
   "cell_type": "code",
   "execution_count": 100,
   "metadata": {
    "colab": {
     "base_uri": "https://localhost:8080/"
    },
    "id": "OnmWz91Zehfa",
    "outputId": "391d0c6a-2359-405d-ce11-d7cba5ef8f51"
   },
   "outputs": [
    {
     "name": "stdout",
     "output_type": "stream",
     "text": [
      "real news count\n"
     ]
    },
    {
     "data": {
      "text/plain": [
       "id        6220\n",
       "title     6220\n",
       "author    6220\n",
       "text      6220\n",
       "label     6220\n",
       "dtype: int64"
      ]
     },
     "execution_count": 100,
     "metadata": {},
     "output_type": "execute_result"
    }
   ],
   "source": [
    "print('real news count')\n",
    "train[train['label']==0].count()"
   ]
  },
  {
   "cell_type": "code",
   "execution_count": 101,
   "metadata": {
    "colab": {
     "base_uri": "https://localhost:8080/"
    },
    "id": "2QUwOWvTehfl",
    "outputId": "8169e19d-bd42-45c0-99ae-3397fa27bf18"
   },
   "outputs": [],
   "source": [
    "stopWords = stopwords.words('english')\n",
    "\n",
    "def preprocessing(raw_text):\n",
    "    # print(raw_text)\n",
    "    tokenized = []\n",
    "    for sent in raw_text:\n",
    "        texts = [''.join([c for c in text.lower() if c not in punctuation]) for text in sent]\n",
    "        texts = ''.join(texts)\n",
    "        texts = [''.join([c for c in text.lower() if c not in '’']) for text in texts]\n",
    "        texts = ''.join(texts)\n",
    "        texts = [''.join([c for c in text.lower() if c not in '‘']) for text in texts]\n",
    "        texts = ''.join(texts)\n",
    "        texts = [word for word in word_tokenize(texts)] # if word not in stopWords]\n",
    "        # print(texts)\n",
    "        tokenized.append(texts)\n",
    "    # texts = ' '.join(texts)\n",
    "    # print(texts)\n",
    "    return tokenized"
   ]
  },
  {
   "cell_type": "code",
   "execution_count": 102,
   "id": "458f1d53",
   "metadata": {
    "id": "458f1d53"
   },
   "outputs": [],
   "source": [
    "def getVocab(text, vocab):\n",
    "    for txt in text:\n",
    "        for w in txt:\n",
    "            vocab.add(w)\n",
    "    return vocab"
   ]
  },
  {
   "cell_type": "code",
   "execution_count": 103,
   "id": "a009fb33",
   "metadata": {
    "id": "a009fb33"
   },
   "outputs": [],
   "source": [
    "def wordVec(text, vocab):\n",
    "    word_dict = {}\n",
    "    ind = 0\n",
    "    for word in vocab:\n",
    "        word_dict[word] = ind\n",
    "        ind += 1\n",
    "    word_vector = []\n",
    "    for txt in text:\n",
    "        w_vec = []\n",
    "        for word in txt:\n",
    "            w_vec.append(word_dict[word])\n",
    "        word_vector.append(w_vec)\n",
    "    return word_vector"
   ]
  },
  {
   "cell_type": "code",
   "execution_count": 104,
   "metadata": {},
   "outputs": [],
   "source": [
    "def padding(seq, maxlen=1200):\n",
    "    final = []\n",
    "    for lis in seq:\n",
    "#         print(lis, '\\n***\\n')\n",
    "        # padding\n",
    "        if len(lis)<maxlen:\n",
    "            pad = []\n",
    "            # print(lis)\n",
    "            for i in range(maxlen-len(lis)):\n",
    "                if type(lis[0]) == int:\n",
    "                    pad.append(0)\n",
    "                else:\n",
    "                    pad.append([0 for i in range(len(lis[0]))])\n",
    "            for i in range(len(lis)):\n",
    "                pad.append(lis[i])\n",
    "            final.append(pad)\n",
    "        #truncating\n",
    "        else:\n",
    "            trunc = []\n",
    "            for i in range(maxlen):\n",
    "                trunc.append(lis[i])\n",
    "            final.append(trunc)\n",
    "    return final"
   ]
  },
  {
   "cell_type": "code",
   "execution_count": 116,
   "metadata": {},
   "outputs": [],
   "source": [
    "train_text = np.array(train['text'])\n",
    "test_text = np.array(test['text'])\n",
    "valid_text = np.array(valid['text'])"
   ]
  },
  {
   "cell_type": "code",
   "execution_count": 117,
   "id": "b8f0144a",
   "metadata": {
    "id": "b8f0144a"
   },
   "outputs": [],
   "source": [
    "train_tokens = preprocessing(train_text)\n",
    "test_tokens = preprocessing(test_text)\n",
    "valid_tokens = preprocessing(valid_text)"
   ]
  },
  {
   "cell_type": "code",
   "execution_count": 118,
   "metadata": {},
   "outputs": [
    {
     "data": {
      "text/html": [
       "<div>\n",
       "<style scoped>\n",
       "    .dataframe tbody tr th:only-of-type {\n",
       "        vertical-align: middle;\n",
       "    }\n",
       "\n",
       "    .dataframe tbody tr th {\n",
       "        vertical-align: top;\n",
       "    }\n",
       "\n",
       "    .dataframe thead th {\n",
       "        text-align: right;\n",
       "    }\n",
       "</style>\n",
       "<table border=\"1\" class=\"dataframe\">\n",
       "  <thead>\n",
       "    <tr style=\"text-align: right;\">\n",
       "      <th></th>\n",
       "      <th>0</th>\n",
       "    </tr>\n",
       "  </thead>\n",
       "  <tbody>\n",
       "    <tr>\n",
       "      <th>count</th>\n",
       "      <td>10942.000000</td>\n",
       "    </tr>\n",
       "    <tr>\n",
       "      <th>mean</th>\n",
       "      <td>825.937671</td>\n",
       "    </tr>\n",
       "    <tr>\n",
       "      <th>std</th>\n",
       "      <td>912.151624</td>\n",
       "    </tr>\n",
       "    <tr>\n",
       "      <th>min</th>\n",
       "      <td>1.000000</td>\n",
       "    </tr>\n",
       "    <tr>\n",
       "      <th>25%</th>\n",
       "      <td>313.000000</td>\n",
       "    </tr>\n",
       "    <tr>\n",
       "      <th>50%</th>\n",
       "      <td>628.000000</td>\n",
       "    </tr>\n",
       "    <tr>\n",
       "      <th>75%</th>\n",
       "      <td>1117.000000</td>\n",
       "    </tr>\n",
       "    <tr>\n",
       "      <th>max</th>\n",
       "      <td>21024.000000</td>\n",
       "    </tr>\n",
       "  </tbody>\n",
       "</table>\n",
       "</div>"
      ],
      "text/plain": [
       "                  0\n",
       "count  10942.000000\n",
       "mean     825.937671\n",
       "std      912.151624\n",
       "min        1.000000\n",
       "25%      313.000000\n",
       "50%      628.000000\n",
       "75%     1117.000000\n",
       "max    21024.000000"
      ]
     },
     "execution_count": 118,
     "metadata": {},
     "output_type": "execute_result"
    }
   ],
   "source": [
    "count = [len(train_tokens[i]) for i in range(len(train_tokens))]\n",
    "pd.DataFrame(count).describe()"
   ]
  },
  {
   "cell_type": "code",
   "execution_count": 119,
   "id": "af076565",
   "metadata": {
    "colab": {
     "base_uri": "https://localhost:8080/"
    },
    "id": "af076565",
    "outputId": "e0796a97-05b8-488a-ed40-8e2a2b9b45e4"
   },
   "outputs": [
    {
     "data": {
      "text/plain": [
       "193874"
      ]
     },
     "execution_count": 119,
     "metadata": {},
     "output_type": "execute_result"
    }
   ],
   "source": [
    "## get vocab\n",
    "\n",
    "vocab = set()\n",
    "vocab = getVocab(train_tokens, vocab)\n",
    "vocab = getVocab(test_tokens, vocab)\n",
    "vocab = getVocab(valid_tokens, vocab)\n",
    "vocab = list(vocab)\n",
    "vocab.sort()\n",
    "len(vocab)"
   ]
  },
  {
   "cell_type": "code",
   "execution_count": 120,
   "id": "8a1430f2",
   "metadata": {
    "id": "8a1430f2"
   },
   "outputs": [
    {
     "name": "stdout",
     "output_type": "stream",
     "text": [
      "3617\n",
      "(3617, 1200)\n"
     ]
    }
   ],
   "source": [
    "# words\n",
    "\n",
    "## convert to vectors \n",
    "\n",
    "word_seq_train = wordVec(train_tokens, vocab)\n",
    "word_seq_test = wordVec(test_tokens, vocab)\n",
    "word_seq_valid = wordVec(valid_tokens, vocab)\n",
    "print(len(word_seq_valid))\n",
    "\n",
    "## padding\n",
    "\n",
    "word_seq_train = np.array(padding(word_seq_train), dtype='float32')\n",
    "word_seq_test = np.array(padding(word_seq_test), dtype='float32')\n",
    "word_seq_valid = np.array(padding(word_seq_valid), dtype='float32')\n",
    "print(word_seq_valid.shape)\n",
    "\n",
    "## saving as csv\n",
    "\n",
    "pd.DataFrame(word_seq_train).to_csv('../data/fake-news/seq_data/word_seq_train.csv', index=False)\n",
    "pd.DataFrame(word_seq_test).to_csv('../data/fake-news//seq_data/word_seq_test.csv', index=False)\n",
    "pd.DataFrame(word_seq_valid).to_csv('../data/fake-news//seq_data/word_seq_valid.csv', index=False)"
   ]
  },
  {
   "cell_type": "code",
   "execution_count": 121,
   "metadata": {},
   "outputs": [],
   "source": [
    "train_label = np.array(train.label)\n",
    "test_label = np.array(test.label)\n",
    "valid_label = np.array(valid.label)\n",
    "\n",
    "pd.DataFrame(train_label).to_csv('../data/fake-news/seq_data/train_label.csv', index=False)\n",
    "pd.DataFrame(test_label).to_csv('../data/fake-news//seq_data/test_label.csv', index=False)\n",
    "pd.DataFrame(valid_label).to_csv('../data/fake-news//seq_data/valid_label.csv', index=False)"
   ]
  }
 ],
 "metadata": {
  "interpreter": {
   "hash": "ac59ebe37160ed0dfa835113d9b8498d9f09ceb179beaac4002f036b9467c963"
  },
  "kernelspec": {
   "display_name": "Python 3.9.7 64-bit",
   "name": "python3"
  },
  "language_info": {
   "codemirror_mode": {
    "name": "ipython",
    "version": 3
   },
   "file_extension": ".py",
   "mimetype": "text/x-python",
   "name": "python",
   "nbconvert_exporter": "python",
   "pygments_lexer": "ipython3",
   "version": "3.9.7"
  },
  "orig_nbformat": 4
 },
 "nbformat": 4,
 "nbformat_minor": 2
}
