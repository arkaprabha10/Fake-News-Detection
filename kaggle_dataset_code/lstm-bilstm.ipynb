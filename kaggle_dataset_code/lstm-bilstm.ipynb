{
  "nbformat": 4,
  "nbformat_minor": 0,
  "metadata": {
    "colab": {
      "name": "lstm.ipynb",
      "provenance": []
    },
    "kernelspec": {
      "display_name": "Python 3",
      "name": "python3"
    },
    "language_info": {
      "name": "python"
    }
  },
  "cells": [
    {
      "cell_type": "code",
      "metadata": {
        "colab": {
          "base_uri": "https://localhost:8080/"
        },
        "id": "E38PewWnTZsH",
        "outputId": "5a026dc9-c4b8-45ab-9b8b-e677c33acf3d"
      },
      "source": [
        "from google.colab import drive\n",
        "drive.mount('/content/drive')"
      ],
      "execution_count": 1,
      "outputs": [
        {
          "output_type": "stream",
          "name": "stdout",
          "text": [
            "Mounted at /content/drive\n"
          ]
        }
      ]
    },
    {
      "cell_type": "code",
      "metadata": {
        "id": "3MwpX9tPTXCv"
      },
      "source": [
        "import numpy as np\n",
        "import pandas as pd\n",
        "import tensorflow as tf\n",
        "import os\n",
        "import re\n",
        "import seaborn as sns\n",
        "from sklearn.model_selection import train_test_split\n",
        "from sklearn.metrics import classification_report, confusion_matrix\n",
        "import matplotlib.pyplot as plt"
      ],
      "execution_count": 2,
      "outputs": []
    },
    {
      "cell_type": "code",
      "metadata": {
        "id": "swa-mwSxTvhJ"
      },
      "source": [
        "import tensorflow as tf\n",
        "from tensorflow.keras.models import Sequential\n",
        "from tensorflow.keras.layers import Dense, Dropout, LSTM, Embedding, Bidirectional"
      ],
      "execution_count": 3,
      "outputs": []
    },
    {
      "cell_type": "markdown",
      "metadata": {
        "id": "zBe0UbSzNL9X"
      },
      "source": [
        "# Title"
      ]
    },
    {
      "cell_type": "code",
      "metadata": {
        "id": "mkVHXgRLT4bB"
      },
      "source": [
        "X_train = pd.read_csv('/content/drive/MyDrive/ML_Project/data/fake-news/title_seq_data/word_seq_train.csv')\n",
        "X_test = pd.read_csv('/content/drive/MyDrive/ML_Project/data/fake-news/title_seq_data/word_seq_test.csv')\n",
        "X_valid = pd.read_csv('/content/drive/MyDrive/ML_Project/data/fake-news/title_seq_data/word_seq_valid.csv')\n",
        "\n",
        "y_train = pd.read_csv('/content/drive/MyDrive/ML_Project/data/fake-news/label_seq_data/train_label.csv')\n",
        "y_test = pd.read_csv('/content/drive/MyDrive/ML_Project/data/fake-news/label_seq_data/test_label.csv')\n",
        "y_valid = pd.read_csv('/content/drive/MyDrive/ML_Project/data/fake-news/label_seq_data/valid_label.csv')\n",
        "\n",
        "vocab_size = int(np.loadtxt('/content/drive/MyDrive/ML_Project/data/fake-news/vocab_size_title.txt'))"
      ],
      "execution_count": 4,
      "outputs": []
    },
    {
      "cell_type": "code",
      "metadata": {
        "colab": {
          "base_uri": "https://localhost:8080/"
        },
        "id": "lHsYK9Q_fBWW",
        "outputId": "11216e47-7672-47c9-fa88-972d740226a6"
      },
      "source": [
        "print(vocab_size)"
      ],
      "execution_count": 5,
      "outputs": [
        {
          "output_type": "stream",
          "name": "stdout",
          "text": [
            "22625\n"
          ]
        }
      ]
    },
    {
      "cell_type": "code",
      "metadata": {
        "colab": {
          "base_uri": "https://localhost:8080/"
        },
        "id": "jMMs8tbuXEQV",
        "outputId": "959fbd09-bf83-403d-9602-234adf7d4447"
      },
      "source": [
        "X_train.shape, X_test.shape, X_valid.shape"
      ],
      "execution_count": 6,
      "outputs": [
        {
          "output_type": "execute_result",
          "data": {
            "text/plain": [
              "((10942, 30), (3652, 30), (3617, 30))"
            ]
          },
          "metadata": {},
          "execution_count": 6
        }
      ]
    },
    {
      "cell_type": "markdown",
      "metadata": {
        "id": "suaXG0PU35T8"
      },
      "source": [
        "## LSTM"
      ]
    },
    {
      "cell_type": "markdown",
      "metadata": {
        "id": "mjDrxCNog9-k"
      },
      "source": [
        "The LSTM model includes:\n",
        "- a layer of embeddings, \n",
        "- Dropout(0.2), \n",
        "- LSTM(4), \n",
        "- Dropout(0.3), \n",
        "- fully connected layer with 100 units and activation function ReLu,\n",
        "- Dropout(0.4) and fully connected layer with activation function sigmoid. \n",
        "\n",
        "LSTM network was trained on full-text data using the first 1200 words of the articles (because of memory limitations)."
      ]
    },
    {
      "cell_type": "code",
      "metadata": {
        "colab": {
          "base_uri": "https://localhost:8080/"
        },
        "id": "UA2WXEAIXUJt",
        "outputId": "9b1adbec-a945-4ea0-d13a-0763356328c4"
      },
      "source": [
        "model = Sequential()\n",
        "model.add(Embedding(input_dim=vocab_size, input_length=30, output_dim=4))\n",
        "model.add(Dropout(rate=0.2))\n",
        "model.add(LSTM(units=4))\n",
        "model.add(Dropout(rate=0.3))\n",
        "model.add(Dense(units=100,  activation='relu'))\n",
        "model.add(Dropout(rate=0.4))\n",
        "model.add(Dense(units=2, activation='sigmoid'))\n",
        "\n",
        "model.summary()"
      ],
      "execution_count": 10,
      "outputs": [
        {
          "output_type": "stream",
          "name": "stdout",
          "text": [
            "Model: \"sequential_1\"\n",
            "_________________________________________________________________\n",
            " Layer (type)                Output Shape              Param #   \n",
            "=================================================================\n",
            " embedding_1 (Embedding)     (None, 30, 4)             90500     \n",
            "                                                                 \n",
            " dropout_3 (Dropout)         (None, 30, 4)             0         \n",
            "                                                                 \n",
            " lstm_1 (LSTM)               (None, 4)                 144       \n",
            "                                                                 \n",
            " dropout_4 (Dropout)         (None, 4)                 0         \n",
            "                                                                 \n",
            " dense_2 (Dense)             (None, 100)               500       \n",
            "                                                                 \n",
            " dropout_5 (Dropout)         (None, 100)               0         \n",
            "                                                                 \n",
            " dense_3 (Dense)             (None, 2)                 202       \n",
            "                                                                 \n",
            "=================================================================\n",
            "Total params: 91,346\n",
            "Trainable params: 91,346\n",
            "Non-trainable params: 0\n",
            "_________________________________________________________________\n"
          ]
        }
      ]
    },
    {
      "cell_type": "code",
      "metadata": {
        "id": "Atl4bwyfYFqq"
      },
      "source": [
        "model.compile(optimizer = 'adam', loss = 'sparse_categorical_crossentropy', metrics = ['accuracy'])"
      ],
      "execution_count": 11,
      "outputs": []
    },
    {
      "cell_type": "code",
      "metadata": {
        "colab": {
          "base_uri": "https://localhost:8080/"
        },
        "id": "BjdVWBBGX5ZM",
        "outputId": "42250121-6ab7-43d3-fdcf-5e2a82647273"
      },
      "source": [
        "history = model.fit(\n",
        "    X_train, \n",
        "    y_train, \n",
        "    validation_data=[X_valid, y_valid],\n",
        "    epochs = 10\n",
        ")"
      ],
      "execution_count": 12,
      "outputs": [
        {
          "output_type": "stream",
          "name": "stdout",
          "text": [
            "Epoch 1/10\n",
            "342/342 [==============================] - 9s 18ms/step - loss: 0.3849 - accuracy: 0.8144 - val_loss: 0.2007 - val_accuracy: 0.9096\n",
            "Epoch 2/10\n",
            "342/342 [==============================] - 5s 15ms/step - loss: 0.1492 - accuracy: 0.9435 - val_loss: 0.1958 - val_accuracy: 0.9165\n",
            "Epoch 3/10\n",
            "342/342 [==============================] - 5s 16ms/step - loss: 0.0799 - accuracy: 0.9725 - val_loss: 0.1993 - val_accuracy: 0.9281\n",
            "Epoch 4/10\n",
            "342/342 [==============================] - 5s 15ms/step - loss: 0.0525 - accuracy: 0.9815 - val_loss: 0.2271 - val_accuracy: 0.9270\n",
            "Epoch 5/10\n",
            "342/342 [==============================] - 6s 16ms/step - loss: 0.0345 - accuracy: 0.9880 - val_loss: 0.2822 - val_accuracy: 0.9234\n",
            "Epoch 6/10\n",
            "342/342 [==============================] - 5s 16ms/step - loss: 0.0241 - accuracy: 0.9900 - val_loss: 0.3076 - val_accuracy: 0.9157\n",
            "Epoch 7/10\n",
            "342/342 [==============================] - 6s 16ms/step - loss: 0.0246 - accuracy: 0.9910 - val_loss: 0.3203 - val_accuracy: 0.9173\n",
            "Epoch 8/10\n",
            "342/342 [==============================] - 5s 16ms/step - loss: 0.0185 - accuracy: 0.9920 - val_loss: 0.3619 - val_accuracy: 0.9242\n",
            "Epoch 9/10\n",
            "342/342 [==============================] - 5s 16ms/step - loss: 0.0212 - accuracy: 0.9921 - val_loss: 0.3530 - val_accuracy: 0.9151\n",
            "Epoch 10/10\n",
            "342/342 [==============================] - 5s 16ms/step - loss: 0.0165 - accuracy: 0.9932 - val_loss: 0.3894 - val_accuracy: 0.9215\n"
          ]
        }
      ]
    },
    {
      "cell_type": "code",
      "metadata": {
        "id": "iugIUyrvmffz"
      },
      "source": [
        "y_probas = model.predict(X_test)\n",
        "y_pred = y_probas.argmax(axis=-1)"
      ],
      "execution_count": 13,
      "outputs": []
    },
    {
      "cell_type": "code",
      "metadata": {
        "colab": {
          "base_uri": "https://localhost:8080/"
        },
        "id": "7K202FaBt_D9",
        "outputId": "d72dd3fd-2e9e-4eec-d6e4-2506d85764cb"
      },
      "source": [
        "print(classification_report(y_true=y_test, y_pred=y_pred))"
      ],
      "execution_count": 14,
      "outputs": [
        {
          "output_type": "stream",
          "name": "stdout",
          "text": [
            "              precision    recall  f1-score   support\n",
            "\n",
            "           0       0.94      0.92      0.93      2042\n",
            "           1       0.90      0.93      0.91      1610\n",
            "\n",
            "    accuracy                           0.92      3652\n",
            "   macro avg       0.92      0.92      0.92      3652\n",
            "weighted avg       0.92      0.92      0.92      3652\n",
            "\n"
          ]
        }
      ]
    },
    {
      "cell_type": "code",
      "metadata": {
        "colab": {
          "base_uri": "https://localhost:8080/",
          "height": 374
        },
        "id": "mK_iLHVMuevh",
        "outputId": "275ac97a-8d6a-4e2e-ca2c-679add1056c2"
      },
      "source": [
        "cm = confusion_matrix(y_test, y_pred)\n",
        "plt.figure(figsize=[8, 6])\n",
        "sns.heatmap(cm, annot=True, fmt='d')\n",
        "plt.show()"
      ],
      "execution_count": 15,
      "outputs": [
        {
          "output_type": "display_data",
          "data": {
            "image/png": "[encoded data removed]",
            "text/plain": [
              "<Figure size 576x432 with 2 Axes>"
            ]
          },
          "metadata": {
            "needs_background": "light"
          }
        }
      ]
    },
    {
      "cell_type": "markdown",
      "metadata": {
        "id": "u7SBOIqK391A"
      },
      "source": [
        "## Bi-LSTM"
      ]
    },
    {
      "cell_type": "markdown",
      "metadata": {
        "id": "ljJP3P4v391A"
      },
      "source": [
        "The Bi-LSTM model includes:\n",
        "- a layer of embeddings, \n",
        "- Dropout(0.2), \n",
        "- Bi-LSTM(4), \n",
        "- Dropout(0.3), \n",
        "- fully connected layer with 100 units and activation function ReLu,\n",
        "- Dropout(0.4) and fully connected layer with activation function sigmoid. \n",
        "\n",
        "Bi-LSTM network was trained on full-text data using the first 1200 words of the articles (because of memory limitations)."
      ]
    },
    {
      "cell_type": "code",
      "metadata": {
        "colab": {
          "base_uri": "https://localhost:8080/"
        },
        "id": "eQ5b3Bsn391B",
        "outputId": "780d2c63-ffb7-4228-8457-e9d3abe07560"
      },
      "source": [
        "model = Sequential()\n",
        "model.add(Embedding(input_dim=vocab_size, input_length=30, output_dim=4))\n",
        "model.add(Dropout(rate=0.2))\n",
        "model.add(Bidirectional(LSTM(units=4)))\n",
        "model.add(Dropout(rate=0.3))\n",
        "model.add(Dense(units=100,  activation='relu'))\n",
        "model.add(Dropout(rate=0.4))\n",
        "model.add(Dense(units=2, activation='sigmoid'))\n",
        "\n",
        "model.summary()"
      ],
      "execution_count": 16,
      "outputs": [
        {
          "output_type": "stream",
          "name": "stdout",
          "text": [
            "Model: \"sequential_2\"\n",
            "_________________________________________________________________\n",
            " Layer (type)                Output Shape              Param #   \n",
            "=================================================================\n",
            " embedding_2 (Embedding)     (None, 30, 4)             90500     \n",
            "                                                                 \n",
            " dropout_6 (Dropout)         (None, 30, 4)             0         \n",
            "                                                                 \n",
            " bidirectional (Bidirectiona  (None, 8)                288       \n",
            " l)                                                              \n",
            "                                                                 \n",
            " dropout_7 (Dropout)         (None, 8)                 0         \n",
            "                                                                 \n",
            " dense_4 (Dense)             (None, 100)               900       \n",
            "                                                                 \n",
            " dropout_8 (Dropout)         (None, 100)               0         \n",
            "                                                                 \n",
            " dense_5 (Dense)             (None, 2)                 202       \n",
            "                                                                 \n",
            "=================================================================\n",
            "Total params: 91,890\n",
            "Trainable params: 91,890\n",
            "Non-trainable params: 0\n",
            "_________________________________________________________________\n"
          ]
        }
      ]
    },
    {
      "cell_type": "code",
      "metadata": {
        "id": "oqG91HDo391C"
      },
      "source": [
        "model.compile(optimizer = 'adam', loss = 'sparse_categorical_crossentropy', metrics = ['accuracy'])"
      ],
      "execution_count": 17,
      "outputs": []
    },
    {
      "cell_type": "code",
      "metadata": {
        "colab": {
          "base_uri": "https://localhost:8080/"
        },
        "id": "P1ugGjyv391C",
        "outputId": "742b24c0-f18d-4250-fd17-1cd8368077f9"
      },
      "source": [
        "history = model.fit(\n",
        "    X_train, \n",
        "    y_train, \n",
        "    validation_data=[X_valid, y_valid],\n",
        "    epochs = 10\n",
        ")"
      ],
      "execution_count": 18,
      "outputs": [
        {
          "output_type": "stream",
          "name": "stdout",
          "text": [
            "Epoch 1/10\n",
            "342/342 [==============================] - 11s 23ms/step - loss: 0.3957 - accuracy: 0.8150 - val_loss: 0.1967 - val_accuracy: 0.9101\n",
            "Epoch 2/10\n",
            "342/342 [==============================] - 7s 20ms/step - loss: 0.1450 - accuracy: 0.9434 - val_loss: 0.1920 - val_accuracy: 0.9187\n",
            "Epoch 3/10\n",
            "342/342 [==============================] - 7s 21ms/step - loss: 0.0820 - accuracy: 0.9705 - val_loss: 0.1989 - val_accuracy: 0.9270\n",
            "Epoch 4/10\n",
            "342/342 [==============================] - 7s 21ms/step - loss: 0.0503 - accuracy: 0.9829 - val_loss: 0.2115 - val_accuracy: 0.9245\n",
            "Epoch 5/10\n",
            "342/342 [==============================] - 7s 21ms/step - loss: 0.0371 - accuracy: 0.9868 - val_loss: 0.2538 - val_accuracy: 0.9165\n",
            "Epoch 6/10\n",
            "342/342 [==============================] - 7s 20ms/step - loss: 0.0248 - accuracy: 0.9909 - val_loss: 0.2806 - val_accuracy: 0.9265\n",
            "Epoch 7/10\n",
            "342/342 [==============================] - 7s 20ms/step - loss: 0.0226 - accuracy: 0.9912 - val_loss: 0.2978 - val_accuracy: 0.9195\n",
            "Epoch 8/10\n",
            "342/342 [==============================] - 7s 20ms/step - loss: 0.0173 - accuracy: 0.9927 - val_loss: 0.3374 - val_accuracy: 0.9245\n",
            "Epoch 9/10\n",
            "342/342 [==============================] - 7s 21ms/step - loss: 0.0191 - accuracy: 0.9919 - val_loss: 0.3496 - val_accuracy: 0.9251\n",
            "Epoch 10/10\n",
            "342/342 [==============================] - 7s 20ms/step - loss: 0.0177 - accuracy: 0.9925 - val_loss: 0.3474 - val_accuracy: 0.9187\n"
          ]
        }
      ]
    },
    {
      "cell_type": "code",
      "metadata": {
        "id": "Q33ayXcN391C"
      },
      "source": [
        "y_probas = model.predict(X_test)\n",
        "y_pred = y_probas.argmax(axis=-1)"
      ],
      "execution_count": 19,
      "outputs": []
    },
    {
      "cell_type": "code",
      "metadata": {
        "colab": {
          "base_uri": "https://localhost:8080/"
        },
        "id": "RstG1HfX391D",
        "outputId": "65ded91f-ddff-4875-ea0c-ac8c2b79c24b"
      },
      "source": [
        "print(classification_report(y_true=y_test, y_pred=y_pred))"
      ],
      "execution_count": 20,
      "outputs": [
        {
          "output_type": "stream",
          "name": "stdout",
          "text": [
            "              precision    recall  f1-score   support\n",
            "\n",
            "           0       0.91      0.94      0.93      2042\n",
            "           1       0.93      0.88      0.90      1610\n",
            "\n",
            "    accuracy                           0.92      3652\n",
            "   macro avg       0.92      0.91      0.91      3652\n",
            "weighted avg       0.92      0.92      0.92      3652\n",
            "\n"
          ]
        }
      ]
    },
    {
      "cell_type": "code",
      "metadata": {
        "colab": {
          "base_uri": "https://localhost:8080/",
          "height": 374
        },
        "id": "Pdn6UFT7391D",
        "outputId": "4308bc57-8eb2-4c3f-eddd-6c8ea18b6f53"
      },
      "source": [
        "cm = confusion_matrix(y_test, y_pred)\n",
        "plt.figure(figsize=[8, 6])\n",
        "sns.heatmap(cm, annot=True, fmt='d')\n",
        "plt.show()"
      ],
      "execution_count": 21,
      "outputs": [
        {
          "output_type": "display_data",
          "data": {
            "image/png": "[encoded data removed]",
            "text/plain": [
              "<Figure size 576x432 with 2 Axes>"
            ]
          },
          "metadata": {
            "needs_background": "light"
          }
        }
      ]
    },
    {
      "cell_type": "markdown",
      "metadata": {
        "id": "YTQsSVacNfzb"
      },
      "source": [
        "# Text"
      ]
    },
    {
      "cell_type": "code",
      "metadata": {
        "id": "fjxDtLeNNfzo"
      },
      "source": [
        "X_train = pd.read_csv('/content/drive/MyDrive/ML_Project/data/fake-news/text_seq_data/word_seq_train.csv')\n",
        "X_test = pd.read_csv('/content/drive/MyDrive/ML_Project/data/fake-news/text_seq_data/word_seq_test.csv')\n",
        "X_valid = pd.read_csv('/content/drive/MyDrive/ML_Project/data/fake-news/text_seq_data/word_seq_valid.csv')\n",
        "\n",
        "y_train = pd.read_csv('/content/drive/MyDrive/ML_Project/data/fake-news/label_seq_data/train_label.csv')\n",
        "y_test = pd.read_csv('/content/drive/MyDrive/ML_Project/data/fake-news/label_seq_data/test_label.csv')\n",
        "y_valid = pd.read_csv('/content/drive/MyDrive/ML_Project/data/fake-news/label_seq_data/valid_label.csv')\n",
        "\n",
        "vocab_size = int(np.loadtxt('/content/drive/MyDrive/ML_Project/data/fake-news/vocab_size_text.txt'))"
      ],
      "execution_count": 22,
      "outputs": []
    },
    {
      "cell_type": "code",
      "metadata": {
        "colab": {
          "base_uri": "https://localhost:8080/"
        },
        "id": "n2piI6h3Nfzp",
        "outputId": "3b41f745-41d3-48ed-df33-d56401870937"
      },
      "source": [
        "print(vocab_size)"
      ],
      "execution_count": 23,
      "outputs": [
        {
          "output_type": "stream",
          "name": "stdout",
          "text": [
            "193874\n"
          ]
        }
      ]
    },
    {
      "cell_type": "code",
      "metadata": {
        "colab": {
          "base_uri": "https://localhost:8080/"
        },
        "id": "qxsxEKwANfzq",
        "outputId": "91690bc4-495a-4426-b030-a4450fff81dc"
      },
      "source": [
        "X_train.shape, X_test.shape, X_valid.shape"
      ],
      "execution_count": 24,
      "outputs": [
        {
          "output_type": "execute_result",
          "data": {
            "text/plain": [
              "((10942, 1200), (3652, 1200), (3617, 1200))"
            ]
          },
          "metadata": {},
          "execution_count": 24
        }
      ]
    },
    {
      "cell_type": "markdown",
      "metadata": {
        "id": "3w9UbrL2Nfzq"
      },
      "source": [
        "## LSTM"
      ]
    },
    {
      "cell_type": "markdown",
      "metadata": {
        "id": "ye4xz5ldNfzq"
      },
      "source": [
        "The LSTM model includes:\n",
        "- a layer of embeddings, \n",
        "- Dropout(0.2), \n",
        "- LSTM(4), \n",
        "- Dropout(0.3), \n",
        "- fully connected layer with 100 units and activation function ReLu,\n",
        "- Dropout(0.4) and fully connected layer with activation function sigmoid. \n",
        "\n",
        "LSTM network was trained on full-text data using the first 1200 words of the articles (because of memory limitations)."
      ]
    },
    {
      "cell_type": "code",
      "metadata": {
        "colab": {
          "base_uri": "https://localhost:8080/"
        },
        "id": "iUauQMuDNfzr",
        "outputId": "446f0ab0-02c3-4a11-ffd1-4471d8d406dc"
      },
      "source": [
        "model = Sequential()\n",
        "model.add(Embedding(input_dim=vocab_size, input_length=1200, output_dim=4))\n",
        "model.add(Dropout(rate=0.2))\n",
        "model.add(LSTM(units=4))\n",
        "model.add(Dropout(rate=0.3))\n",
        "model.add(Dense(units=100,  activation='relu'))\n",
        "model.add(Dropout(rate=0.4))\n",
        "model.add(Dense(units=2, activation='sigmoid'))\n",
        "\n",
        "model.summary()"
      ],
      "execution_count": null,
      "outputs": [
        {
          "name": "stdout",
          "output_type": "stream",
          "text": [
            "Model: \"sequential_11\"\n",
            "_________________________________________________________________\n",
            " Layer (type)                Output Shape              Param #   \n",
            "=================================================================\n",
            " embedding_8 (Embedding)     (None, 1200, 4)           775496    \n",
            "                                                                 \n",
            " dropout_21 (Dropout)        (None, 1200, 4)           0         \n",
            "                                                                 \n",
            " lstm_8 (LSTM)               (None, 4)                 144       \n",
            "                                                                 \n",
            " dropout_22 (Dropout)        (None, 4)                 0         \n",
            "                                                                 \n",
            " dense_16 (Dense)            (None, 100)               500       \n",
            "                                                                 \n",
            " dropout_23 (Dropout)        (None, 100)               0         \n",
            "                                                                 \n",
            " dense_17 (Dense)            (None, 2)                 202       \n",
            "                                                                 \n",
            "=================================================================\n",
            "Total params: 776,342\n",
            "Trainable params: 776,342\n",
            "Non-trainable params: 0\n",
            "_________________________________________________________________\n"
          ]
        }
      ]
    },
    {
      "cell_type": "code",
      "metadata": {
        "id": "DMky7awENfzr"
      },
      "source": [
        "model.compile(optimizer = 'adam', loss = 'sparse_categorical_crossentropy', metrics = ['accuracy'])"
      ],
      "execution_count": null,
      "outputs": []
    },
    {
      "cell_type": "code",
      "metadata": {
        "colab": {
          "background_save": true,
          "base_uri": "https://localhost:8080/"
        },
        "id": "dEztK_GlNfzs",
        "outputId": "e4ee26c6-ea89-4d1d-baa4-81f1c4b6027a"
      },
      "source": [
        "history = model.fit(\n",
        "    X_train, \n",
        "    y_train, \n",
        "    validation_data=[X_valid, y_valid],\n",
        "    epochs = 10\n",
        ")"
      ],
      "execution_count": null,
      "outputs": [
        {
          "name": "stdout",
          "output_type": "stream",
          "text": [
            "Epoch 1/10\n",
            "342/342 [==============================] - 189s 544ms/step - loss: 0.4336 - accuracy: 0.7859 - val_loss: 0.2156 - val_accuracy: 0.9254\n",
            "Epoch 2/10\n",
            "342/342 [==============================] - 184s 537ms/step - loss: 0.1608 - accuracy: 0.9453 - val_loss: 0.1756 - val_accuracy: 0.9408\n",
            "Epoch 3/10\n",
            "342/342 [==============================] - 186s 544ms/step - loss: 0.0669 - accuracy: 0.9804 - val_loss: 0.1808 - val_accuracy: 0.9392\n",
            "Epoch 4/10\n",
            "342/342 [==============================] - 185s 540ms/step - loss: 0.0441 - accuracy: 0.9867 - val_loss: 0.2022 - val_accuracy: 0.9411\n",
            "Epoch 5/10\n",
            "342/342 [==============================] - 186s 544ms/step - loss: 0.0316 - accuracy: 0.9893 - val_loss: 0.2284 - val_accuracy: 0.9430\n",
            "Epoch 6/10\n",
            "342/342 [==============================] - 184s 539ms/step - loss: 0.0229 - accuracy: 0.9904 - val_loss: 0.2314 - val_accuracy: 0.9414\n",
            "Epoch 7/10\n",
            "342/342 [==============================] - 184s 538ms/step - loss: 0.0250 - accuracy: 0.9923 - val_loss: 0.2907 - val_accuracy: 0.9328\n",
            "Epoch 8/10\n",
            "342/342 [==============================] - 184s 538ms/step - loss: 0.0220 - accuracy: 0.9920 - val_loss: 0.2459 - val_accuracy: 0.9527\n",
            "Epoch 9/10\n",
            "342/342 [==============================] - 183s 536ms/step - loss: 0.0121 - accuracy: 0.9949 - val_loss: 0.2733 - val_accuracy: 0.9486\n",
            "Epoch 10/10\n",
            "342/342 [==============================] - 181s 530ms/step - loss: 0.0150 - accuracy: 0.9937 - val_loss: 0.3228 - val_accuracy: 0.9458\n"
          ]
        }
      ]
    },
    {
      "cell_type": "code",
      "metadata": {
        "colab": {
          "background_save": true
        },
        "id": "DGv8KB3sNfzs"
      },
      "source": [
        "y_probas = model.predict(X_test)\n",
        "y_pred = y_probas.argmax(axis=-1)"
      ],
      "execution_count": null,
      "outputs": []
    },
    {
      "cell_type": "code",
      "metadata": {
        "colab": {
          "background_save": true
        },
        "id": "zApc47x0Nfzs",
        "outputId": "91d167e4-24d5-405b-c654-c6cb23f70db3"
      },
      "source": [
        "print(classification_report(y_true=y_test, y_pred=y_pred))"
      ],
      "execution_count": null,
      "outputs": [
        {
          "name": "stdout",
          "output_type": "stream",
          "text": [
            "              precision    recall  f1-score   support\n",
            "\n",
            "           0       0.96      0.96      0.96      2042\n",
            "           1       0.95      0.95      0.95      1610\n",
            "\n",
            "    accuracy                           0.96      3652\n",
            "   macro avg       0.95      0.96      0.95      3652\n",
            "weighted avg       0.96      0.96      0.96      3652\n",
            "\n"
          ]
        }
      ]
    },
    {
      "cell_type": "code",
      "metadata": {
        "colab": {
          "background_save": true
        },
        "id": "JG2GemL_Nfzt",
        "outputId": "b564e95b-c473-418f-874c-31ebc148bd28"
      },
      "source": [
        "cm = confusion_matrix(y_test, y_pred)\n",
        "plt.figure(figsize=[8, 6])\n",
        "sns.heatmap(cm, annot=True, fmt='d')\n",
        "plt.show()"
      ],
      "execution_count": null,
      "outputs": [
        {
          "data": {
            "image/png": "[encoded data removed]",
            "text/plain": [
              "<Figure size 576x432 with 2 Axes>"
            ]
          },
          "metadata": {},
          "output_type": "display_data"
        }
      ]
    },
    {
      "cell_type": "markdown",
      "metadata": {
        "id": "zo_no0IDNfzt"
      },
      "source": [
        "## Bi-LSTM"
      ]
    },
    {
      "cell_type": "markdown",
      "metadata": {
        "id": "w1TM8so3Nfzt"
      },
      "source": [
        "The Bi-LSTM model includes:\n",
        "- a layer of embeddings, \n",
        "- Dropout(0.2), \n",
        "- Bi-LSTM(4), \n",
        "- Dropout(0.3), \n",
        "- fully connected layer with 100 units and activation function ReLu,\n",
        "- Dropout(0.4) and fully connected layer with activation function sigmoid. \n",
        "\n",
        "Bi-LSTM network was trained on full-text data using the first 1200 words of the articles (because of memory limitations)."
      ]
    },
    {
      "cell_type": "code",
      "metadata": {
        "colab": {
          "base_uri": "https://localhost:8080/"
        },
        "id": "NvFVkr5UNfzu",
        "outputId": "73150d26-9fe7-4ca9-bf2c-0d319b4d7729"
      },
      "source": [
        "model = Sequential()\n",
        "model.add(Embedding(input_dim=vocab_size, input_length=1200, output_dim=4))\n",
        "model.add(Dropout(rate=0.2))\n",
        "model.add(Bidirectional(LSTM(units=4)))\n",
        "model.add(Dropout(rate=0.3))\n",
        "model.add(Dense(units=100,  activation='relu'))\n",
        "model.add(Dropout(rate=0.4))\n",
        "model.add(Dense(units=2, activation='sigmoid'))\n",
        "\n",
        "model.summary()"
      ],
      "execution_count": 25,
      "outputs": [
        {
          "output_type": "stream",
          "name": "stdout",
          "text": [
            "Model: \"sequential_3\"\n",
            "_________________________________________________________________\n",
            " Layer (type)                Output Shape              Param #   \n",
            "=================================================================\n",
            " embedding_3 (Embedding)     (None, 1200, 4)           775496    \n",
            "                                                                 \n",
            " dropout_9 (Dropout)         (None, 1200, 4)           0         \n",
            "                                                                 \n",
            " bidirectional_1 (Bidirectio  (None, 8)                288       \n",
            " nal)                                                            \n",
            "                                                                 \n",
            " dropout_10 (Dropout)        (None, 8)                 0         \n",
            "                                                                 \n",
            " dense_6 (Dense)             (None, 100)               900       \n",
            "                                                                 \n",
            " dropout_11 (Dropout)        (None, 100)               0         \n",
            "                                                                 \n",
            " dense_7 (Dense)             (None, 2)                 202       \n",
            "                                                                 \n",
            "=================================================================\n",
            "Total params: 776,886\n",
            "Trainable params: 776,886\n",
            "Non-trainable params: 0\n",
            "_________________________________________________________________\n"
          ]
        }
      ]
    },
    {
      "cell_type": "code",
      "metadata": {
        "id": "0QjZlEIyNfzu"
      },
      "source": [
        "model.compile(optimizer = 'adam', loss = 'sparse_categorical_crossentropy', metrics = ['accuracy'])"
      ],
      "execution_count": 26,
      "outputs": []
    },
    {
      "cell_type": "code",
      "metadata": {
        "colab": {
          "base_uri": "https://localhost:8080/"
        },
        "id": "j0EHQqI6Nfzu",
        "outputId": "ef0e810e-d25e-417a-d116-8dbd0331b5d1"
      },
      "source": [
        "history = model.fit(\n",
        "    X_train, \n",
        "    y_train, \n",
        "    validation_data=[X_valid, y_valid],\n",
        "    epochs = 10\n",
        ")"
      ],
      "execution_count": 27,
      "outputs": [
        {
          "output_type": "stream",
          "name": "stdout",
          "text": [
            "Epoch 1/10\n",
            "342/342 [==============================] - 281s 812ms/step - loss: 0.5286 - accuracy: 0.7154 - val_loss: 0.3711 - val_accuracy: 0.8253\n",
            "Epoch 2/10\n",
            "342/342 [==============================] - 275s 805ms/step - loss: 0.2528 - accuracy: 0.9079 - val_loss: 0.1947 - val_accuracy: 0.9284\n",
            "Epoch 3/10\n",
            "342/342 [==============================] - 275s 804ms/step - loss: 0.1652 - accuracy: 0.9402 - val_loss: 0.1958 - val_accuracy: 0.9254\n",
            "Epoch 4/10\n",
            "342/342 [==============================] - 273s 798ms/step - loss: 0.1889 - accuracy: 0.9271 - val_loss: 0.2693 - val_accuracy: 0.8875\n",
            "Epoch 5/10\n",
            "342/342 [==============================] - 275s 804ms/step - loss: 0.0860 - accuracy: 0.9714 - val_loss: 0.2221 - val_accuracy: 0.9212\n",
            "Epoch 6/10\n",
            "342/342 [==============================] - 273s 799ms/step - loss: 0.0405 - accuracy: 0.9882 - val_loss: 0.2383 - val_accuracy: 0.9267\n",
            "Epoch 7/10\n",
            "342/342 [==============================] - 272s 796ms/step - loss: 0.0308 - accuracy: 0.9911 - val_loss: 0.2693 - val_accuracy: 0.9242\n",
            "Epoch 8/10\n",
            "342/342 [==============================] - 277s 809ms/step - loss: 0.0258 - accuracy: 0.9920 - val_loss: 0.2912 - val_accuracy: 0.9273\n",
            "Epoch 9/10\n",
            "342/342 [==============================] - 275s 805ms/step - loss: 0.0242 - accuracy: 0.9931 - val_loss: 0.2915 - val_accuracy: 0.9262\n",
            "Epoch 10/10\n",
            "342/342 [==============================] - 274s 803ms/step - loss: 0.0217 - accuracy: 0.9936 - val_loss: 0.3290 - val_accuracy: 0.9256\n"
          ]
        }
      ]
    },
    {
      "cell_type": "code",
      "metadata": {
        "id": "8z_0Cgi1Nfzv"
      },
      "source": [
        "y_probas = model.predict(X_test)\n",
        "y_pred = y_probas.argmax(axis=-1)"
      ],
      "execution_count": 28,
      "outputs": []
    },
    {
      "cell_type": "code",
      "metadata": {
        "colab": {
          "base_uri": "https://localhost:8080/"
        },
        "id": "L_8s50fdNfzv",
        "outputId": "002393d3-9ebd-4ef2-d658-9a519c8e7e03"
      },
      "source": [
        "print(classification_report(y_true=y_test, y_pred=y_pred))"
      ],
      "execution_count": 29,
      "outputs": [
        {
          "output_type": "stream",
          "name": "stdout",
          "text": [
            "              precision    recall  f1-score   support\n",
            "\n",
            "           0       0.90      0.97      0.93      2042\n",
            "           1       0.95      0.87      0.91      1610\n",
            "\n",
            "    accuracy                           0.92      3652\n",
            "   macro avg       0.93      0.92      0.92      3652\n",
            "weighted avg       0.92      0.92      0.92      3652\n",
            "\n"
          ]
        }
      ]
    },
    {
      "cell_type": "code",
      "metadata": {
        "colab": {
          "base_uri": "https://localhost:8080/",
          "height": 374
        },
        "id": "uz_g5ZqeNfzv",
        "outputId": "5db3d571-b456-48a9-da86-fc18c273088d"
      },
      "source": [
        "cm = confusion_matrix(y_test, y_pred)\n",
        "plt.figure(figsize=[8, 6])\n",
        "sns.heatmap(cm, annot=True, fmt='d')\n",
        "plt.show()"
      ],
      "execution_count": 30,
      "outputs": [
        {
          "output_type": "display_data",
          "data": {
            "image/png": "[encoded data removed]",
            "text/plain": [
              "<Figure size 576x432 with 2 Axes>"
            ]
          },
          "metadata": {
            "needs_background": "light"
          }
        }
      ]
    }
  ]
}