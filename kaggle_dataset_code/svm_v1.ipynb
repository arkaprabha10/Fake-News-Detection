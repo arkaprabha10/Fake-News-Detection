{
  "cells": [
    {
      "cell_type": "code",
      "execution_count": null,
      "metadata": {
        "id": "e6G90SW7AyAp"
      },
      "outputs": [],
      "source": [
        "import numpy as np\n",
        "import pandas as pd\n",
        "from sklearn import svm\n",
        "from sklearn.metrics import classification_report\n",
        "from sklearn.preprocessing import MinMaxScaler"
      ]
    },
    {
      "cell_type": "markdown",
      "metadata": {
        "id": "6GcNyCwxAyAr"
      },
      "source": [
        "# text"
      ]
    },
    {
      "cell_type": "code",
      "execution_count": null,
      "metadata": {
        "id": "69PG4pNRAyAs"
      },
      "outputs": [],
      "source": [
        "X_train = pd.read_csv('../data/fake-news/text_seq_data/word_seq_train.csv')\n",
        "X_valid = pd.read_csv('../data/fake-news/text_seq_data/word_seq_valid.csv')\n",
        "X_train = X_train.append(X_valid)\n",
        "X_test = pd.read_csv('../data/fake-news/text_seq_data/word_seq_test.csv')"
      ]
    },
    {
      "cell_type": "code",
      "execution_count": null,
      "metadata": {
        "id": "BNA-3pz_AyAt"
      },
      "outputs": [],
      "source": [
        "y_train = pd.read_csv('../data/fake-news/label_seq_data/train_label.csv')\n",
        "y_valid = pd.read_csv('../data/fake-news/label_seq_data/valid_label.csv')\n",
        "y_train = y_train.append(y_valid)\n",
        "y_test = pd.read_csv('../data/fake-news/label_seq_data/test_label.csv')"
      ]
    },
    {
      "cell_type": "code",
      "execution_count": null,
      "metadata": {
        "id": "M381TOb-AyAt"
      },
      "outputs": [],
      "source": [
        "X_train = MinMaxScaler().fit_transform(np.array(X_train))\n",
        "X_test = MinMaxScaler().fit_transform(np.array(X_test))\n",
        "y_train = np.ravel(y_train)\n",
        "y_test = np.ravel(y_test)"
      ]
    },
    {
      "cell_type": "code",
      "execution_count": null,
      "metadata": {
        "colab": {
          "base_uri": "https://localhost:8080/"
        },
        "id": "Gyw883mgZppy",
        "outputId": "92c14fc6-fb90-469e-eb6d-9b11ccf7537a"
      },
      "outputs": [
        {
          "name": "stdout",
          "output_type": "stream",
          "text": [
            "Kernel: linear\n",
            "              precision    recall  f1-score   support\n",
            "\n",
            "           0       0.64      0.73      0.68      2042\n",
            "           1       0.58      0.48      0.53      1610\n",
            "\n",
            "    accuracy                           0.62      3652\n",
            "   macro avg       0.61      0.61      0.61      3652\n",
            "weighted avg       0.62      0.62      0.62      3652\n",
            "\n",
            "\n"
          ]
        }
      ],
      "source": [
        "clf = svm.SVC(kernel='linear')\n",
        "clf.fit(X_train,y_train)\n",
        "y_pred = clf.predict(X_test)\n",
        "print('Kernel: linear')\n",
        "print(classification_report(y_test,y_pred))\n",
        "print()"
      ]
    },
    {
      "cell_type": "code",
      "execution_count": null,
      "metadata": {
        "colab": {
          "base_uri": "https://localhost:8080/"
        },
        "id": "rVSGUSWyZ717",
        "outputId": "f4009ace-e8b4-49ca-b518-30c077b71a8b"
      },
      "outputs": [
        {
          "name": "stdout",
          "output_type": "stream",
          "text": [
            "Kernel: poly\n",
            "              precision    recall  f1-score   support\n",
            "\n",
            "           0       0.67      0.68      0.67      2042\n",
            "           1       0.58      0.57      0.57      1610\n",
            "\n",
            "    accuracy                           0.63      3652\n",
            "   macro avg       0.62      0.62      0.62      3652\n",
            "weighted avg       0.63      0.63      0.63      3652\n",
            "\n",
            "\n"
          ]
        }
      ],
      "source": [
        "clf = svm.SVC(kernel='poly')\n",
        "clf.fit(X_train,y_train)\n",
        "y_pred_poly = clf.predict(X_test)\n",
        "print('Kernel: poly')\n",
        "print(classification_report(y_test,y_pred_poly))\n",
        "print()"
      ]
    },
    {
      "cell_type": "code",
      "execution_count": null,
      "metadata": {
        "colab": {
          "base_uri": "https://localhost:8080/"
        },
        "id": "eO04ROCHaT9p",
        "outputId": "2b4ceeef-9b1e-4a8d-83ea-b4ba7b55acc6"
      },
      "outputs": [
        {
          "name": "stdout",
          "output_type": "stream",
          "text": [
            "Kernel: rbf\n",
            "              precision    recall  f1-score   support\n",
            "\n",
            "           0       0.65      0.86      0.74      2042\n",
            "           1       0.69      0.41      0.51      1610\n",
            "\n",
            "    accuracy                           0.66      3652\n",
            "   macro avg       0.67      0.63      0.62      3652\n",
            "weighted avg       0.67      0.66      0.64      3652\n",
            "\n",
            "\n"
          ]
        }
      ],
      "source": [
        "clf = svm.SVC(kernel='rbf')\n",
        "clf.fit(X_train,y_train)\n",
        "y_pred_rbf = clf.predict(X_test)\n",
        "print('Kernel: rbf')\n",
        "print(classification_report(y_test,y_pred_rbf))\n",
        "print()"
      ]
    },
    {
      "cell_type": "code",
      "execution_count": null,
      "metadata": {
        "colab": {
          "base_uri": "https://localhost:8080/"
        },
        "id": "VZ-eF9uDbITr",
        "outputId": "f6445666-c32f-4773-c3a8-ab855463e89f"
      },
      "outputs": [
        {
          "name": "stdout",
          "output_type": "stream",
          "text": [
            "Kernel: sigmoid\n",
            "              precision    recall  f1-score   support\n",
            "\n",
            "           0       0.66      0.64      0.65      2042\n",
            "           1       0.56      0.57      0.57      1610\n",
            "\n",
            "    accuracy                           0.61      3652\n",
            "   macro avg       0.61      0.61      0.61      3652\n",
            "weighted avg       0.61      0.61      0.61      3652\n",
            "\n",
            "\n"
          ]
        }
      ],
      "source": [
        "clf = svm.SVC(kernel='sigmoid')\n",
        "clf.fit(X_train,y_train)\n",
        "y_pred_sigmoid = clf.predict(X_test)\n",
        "print('Kernel: sigmoid')\n",
        "print(classification_report(y_test,y_pred_sigmoid))\n",
        "print()"
      ]
    },
    {
      "cell_type": "code",
      "execution_count": null,
      "metadata": {
        "colab": {
          "base_uri": "https://localhost:8080/"
        },
        "id": "TvXCcvrtabu_",
        "outputId": "3711dd54-4cba-4beb-8fdd-7fca1f457b73"
      },
      "outputs": [
        {
          "name": "stdout",
          "output_type": "stream",
          "text": [
            "Kernel: precomputed\n",
            "              precision    recall  f1-score   support\n",
            "\n",
            "           0       0.64      0.73      0.68      2042\n",
            "           1       0.59      0.48      0.53      1610\n",
            "\n",
            "    accuracy                           0.62      3652\n",
            "   macro avg       0.61      0.61      0.61      3652\n",
            "weighted avg       0.62      0.62      0.62      3652\n",
            "\n"
          ]
        }
      ],
      "source": [
        "x_train_precomp = np.dot(X_train,X_train.T)\n",
        "x_test_precomp = np.dot(X_test,X_train.T)\n",
        "clf = svm.SVC(kernel='precomputed')\n",
        "clf.fit(x_train_precomp,y_train)\n",
        "y_pred = clf.predict(x_test_precomp)\n",
        "print('Kernel: precomputed')\n",
        "print(classification_report(y_test,y_pred))"
      ]
    },
    {
      "cell_type": "markdown",
      "metadata": {
        "id": "ekBe6vadAyAx"
      },
      "source": [
        "# title"
      ]
    },
    {
      "cell_type": "code",
      "execution_count": null,
      "metadata": {
        "id": "_EL3Fp6TAyAx"
      },
      "outputs": [],
      "source": [
        "X_train2 = pd.read_csv('../data/fake-news/title_seq_data/word_seq_train.csv')\n",
        "X_valid2 = pd.read_csv('../data/fake-news/title_seq_data/word_seq_valid.csv')\n",
        "X_train2 = X_train2.append(X_valid2)\n",
        "X_test2 = pd.read_csv('../data/fake-news/title_seq_data/word_seq_test.csv')"
      ]
    },
    {
      "cell_type": "code",
      "execution_count": null,
      "metadata": {
        "id": "MNR9JSA_AyAy"
      },
      "outputs": [],
      "source": [
        "y_train2 = pd.read_csv('../data/fake-news/label_seq_data/train_label.csv')\n",
        "y_valid2 = pd.read_csv('../data/fake-news/label_seq_data/valid_label.csv')\n",
        "y_train2 = y_train2.append(y_valid2)\n",
        "y_test2 = pd.read_csv('../data/fake-news/label_seq_data/test_label.csv')"
      ]
    },
    {
      "cell_type": "code",
      "execution_count": null,
      "metadata": {
        "id": "DfFJsyzFAyAy"
      },
      "outputs": [],
      "source": [
        "X_train2 = MinMaxScaler().fit_transform(np.array(X_train2))\n",
        "X_test2 = MinMaxScaler().fit_transform(np.array(X_test2))\n",
        "y_train2 = np.ravel(y_train2)\n",
        "y_test2 = np.ravel(y_test2)"
      ]
    },
    {
      "cell_type": "code",
      "execution_count": null,
      "metadata": {
        "colab": {
          "base_uri": "https://localhost:8080/"
        },
        "id": "am-FFjdw0rkz",
        "outputId": "1db6fdf9-110a-4cfc-95a0-e098e50ef579"
      },
      "outputs": [
        {
          "name": "stdout",
          "output_type": "stream",
          "text": [
            "Kernel: linear\n",
            "              precision    recall  f1-score   support\n",
            "\n",
            "           0       0.75      0.80      0.77      2042\n",
            "           1       0.72      0.66      0.69      1610\n",
            "\n",
            "    accuracy                           0.73      3652\n",
            "   macro avg       0.73      0.73      0.73      3652\n",
            "weighted avg       0.73      0.73      0.73      3652\n",
            "\n",
            "\n"
          ]
        }
      ],
      "source": [
        "clf = svm.SVC(kernel='linear')\n",
        "clf.fit(X_train2,y_train2)\n",
        "y_pred2 = clf.predict(X_test2)\n",
        "print('Kernel: linear')\n",
        "print(classification_report(y_test2,y_pred2))\n",
        "print()"
      ]
    },
    {
      "cell_type": "code",
      "execution_count": null,
      "metadata": {
        "colab": {
          "base_uri": "https://localhost:8080/"
        },
        "id": "KH_d8bGP0rk0",
        "outputId": "741250bb-c673-4024-8278-e850875351a4"
      },
      "outputs": [
        {
          "name": "stdout",
          "output_type": "stream",
          "text": [
            "Kernel: poly\n",
            "              precision    recall  f1-score   support\n",
            "\n",
            "           0       0.86      0.76      0.81      2042\n",
            "           1       0.73      0.85      0.79      1610\n",
            "\n",
            "    accuracy                           0.80      3652\n",
            "   macro avg       0.80      0.80      0.80      3652\n",
            "weighted avg       0.81      0.80      0.80      3652\n",
            "\n",
            "\n"
          ]
        }
      ],
      "source": [
        "clf = svm.SVC(kernel='poly')\n",
        "clf.fit(X_train2,y_train2)\n",
        "y_pred_poly2 = clf.predict(X_test2)\n",
        "print('Kernel: poly')\n",
        "print(classification_report(y_test2,y_pred_poly2))\n",
        "print()"
      ]
    },
    {
      "cell_type": "code",
      "execution_count": null,
      "metadata": {
        "colab": {
          "base_uri": "https://localhost:8080/"
        },
        "id": "5R31qDbc0rk0",
        "outputId": "f9ec6097-f86c-4754-f6ac-bc45720de06f"
      },
      "outputs": [
        {
          "name": "stdout",
          "output_type": "stream",
          "text": [
            "Kernel: rbf\n",
            "              precision    recall  f1-score   support\n",
            "\n",
            "           0       0.84      0.84      0.84      2042\n",
            "           1       0.79      0.79      0.79      1610\n",
            "\n",
            "    accuracy                           0.82      3652\n",
            "   macro avg       0.82      0.82      0.82      3652\n",
            "weighted avg       0.82      0.82      0.82      3652\n",
            "\n",
            "\n"
          ]
        }
      ],
      "source": [
        "clf = svm.SVC(kernel='rbf')\n",
        "clf.fit(X_train2,y_train2)\n",
        "y_pred_rbf2 = clf.predict(X_test2)\n",
        "print('Kernel: rbf')\n",
        "print(classification_report(y_test2,y_pred_rbf2))\n",
        "print()"
      ]
    },
    {
      "cell_type": "code",
      "execution_count": null,
      "metadata": {
        "colab": {
          "base_uri": "https://localhost:8080/"
        },
        "id": "N_TLg05-0rk0",
        "outputId": "177be4e3-63de-44fe-94a4-c87565679034"
      },
      "outputs": [
        {
          "name": "stdout",
          "output_type": "stream",
          "text": [
            "Kernel: sigmoid\n",
            "              precision    recall  f1-score   support\n",
            "\n",
            "           0       0.61      0.63      0.62      2042\n",
            "           1       0.52      0.50      0.51      1610\n",
            "\n",
            "    accuracy                           0.57      3652\n",
            "   macro avg       0.57      0.56      0.56      3652\n",
            "weighted avg       0.57      0.57      0.57      3652\n",
            "\n",
            "\n"
          ]
        }
      ],
      "source": [
        "clf = svm.SVC(kernel='sigmoid')\n",
        "clf.fit(X_train2,y_train2)\n",
        "y_pred_sigmoid2 = clf.predict(X_test2)\n",
        "print('Kernel: sigmoid')\n",
        "print(classification_report(y_test2,y_pred_sigmoid2))\n",
        "print()"
      ]
    },
    {
      "cell_type": "code",
      "execution_count": null,
      "metadata": {
        "colab": {
          "base_uri": "https://localhost:8080/"
        },
        "id": "3uW9d90q0rk0",
        "outputId": "102a33ac-4161-478f-cb06-a05c5b8c530c"
      },
      "outputs": [
        {
          "name": "stdout",
          "output_type": "stream",
          "text": [
            "Kernel: precomputed\n",
            "              precision    recall  f1-score   support\n",
            "\n",
            "           0       0.75      0.80      0.77      2042\n",
            "           1       0.72      0.66      0.69      1610\n",
            "\n",
            "    accuracy                           0.73      3652\n",
            "   macro avg       0.73      0.73      0.73      3652\n",
            "weighted avg       0.73      0.73      0.73      3652\n",
            "\n"
          ]
        }
      ],
      "source": [
        "x_train_precomp2 = np.dot(X_train2,X_train2.T)\n",
        "x_test_precomp2 = np.dot(X_test2,X_train2.T)\n",
        "clf = svm.SVC(kernel='precomputed')\n",
        "clf.fit(x_train_precomp2,y_train2)\n",
        "y_pred2 = clf.predict(x_test_precomp2)\n",
        "print('Kernel: precomputed')\n",
        "print(classification_report(y_test2,y_pred2))"
      ]
    }
  ],
  "metadata": {
    "colab": {
      "collapsed_sections": [],
      "name": "svm_temp.ipynb",
      "provenance": []
    },
    "interpreter": {
      "hash": "cf2350cba43e1d06d9c1f803cf97a1d209fb9586cdf73481a8f23553c7381136"
    },
    "kernelspec": {
      "display_name": "Python 3.7.1 64-bit ('base': conda)",
      "name": "python3"
    },
    "language_info": {
      "codemirror_mode": {
        "name": "ipython",
        "version": 3
      },
      "file_extension": ".py",
      "mimetype": "text/x-python",
      "name": "python",
      "nbconvert_exporter": "python",
      "pygments_lexer": "ipython3",
      "version": "3.7.1"
    },
    "orig_nbformat": 4
  },
  "nbformat": 4,
  "nbformat_minor": 0
}
