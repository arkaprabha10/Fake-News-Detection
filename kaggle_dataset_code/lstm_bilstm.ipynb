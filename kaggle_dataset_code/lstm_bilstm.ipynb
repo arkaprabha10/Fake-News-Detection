{
  "nbformat": 4,
  "nbformat_minor": 0,
  "metadata": {
    "colab": {
      "name": "kaggle_lstm_bilstm.ipynb",
      "provenance": [],
      "toc_visible": true
    },
    "kernelspec": {
      "display_name": "Python 3",
      "name": "python3"
    },
    "language_info": {
      "name": "python"
    },
    "accelerator": "GPU"
  },
  "cells": [
    {
      "cell_type": "code",
      "metadata": {
        "colab": {
          "base_uri": "https://localhost:8080/"
        },
        "id": "E38PewWnTZsH",
        "outputId": "eb8f8698-cd69-4809-b729-a3c13de6fcb5"
      },
      "source": [
        "from google.colab import drive\n",
        "drive.mount('/content/drive')"
      ],
      "execution_count": 1,
      "outputs": [
        {
          "output_type": "stream",
          "name": "stdout",
          "text": [
            "Mounted at /content/drive\n"
          ]
        }
      ]
    },
    {
      "cell_type": "code",
      "metadata": {
        "id": "3MwpX9tPTXCv"
      },
      "source": [
        "import numpy as np\n",
        "import pandas as pd\n",
        "import tensorflow as tf\n",
        "import os\n",
        "import re\n",
        "import seaborn as sns\n",
        "from sklearn.model_selection import train_test_split\n",
        "from sklearn.metrics import classification_report, confusion_matrix\n",
        "import matplotlib.pyplot as plt"
      ],
      "execution_count": 2,
      "outputs": []
    },
    {
      "cell_type": "code",
      "metadata": {
        "id": "swa-mwSxTvhJ"
      },
      "source": [
        "import tensorflow as tf\n",
        "from tensorflow.keras.models import Sequential\n",
        "from tensorflow.keras.layers import Dense, Dropout, LSTM, Embedding, Bidirectional"
      ],
      "execution_count": 3,
      "outputs": []
    },
    {
      "cell_type": "code",
      "metadata": {
        "id": "-n6tHO7fuFlP"
      },
      "source": [
        "def plot_history(history):\n",
        "    # summarize history for accuracy\n",
        "    plt.plot(history.history['accuracy'])\n",
        "    plt.plot(history.history['val_accuracy'])\n",
        "    plt.title('model accuracy')\n",
        "    plt.ylabel('accuracy')\n",
        "    plt.xlabel('epoch')\n",
        "    plt.legend(['train', 'validation'], loc='upper left')\n",
        "    plt.show()\n",
        "    # summarize history for loss\n",
        "    plt.plot(history.history['loss'])\n",
        "    plt.plot(history.history['val_loss'])\n",
        "    plt.title('model loss')\n",
        "    plt.ylabel('loss')\n",
        "    plt.xlabel('epoch')\n",
        "    plt.legend(['train', 'validation'], loc='upper left')\n",
        "    plt.show()"
      ],
      "execution_count": 10,
      "outputs": []
    },
    {
      "cell_type": "markdown",
      "metadata": {
        "id": "zBe0UbSzNL9X"
      },
      "source": [
        "# Title"
      ]
    },
    {
      "cell_type": "code",
      "metadata": {
        "id": "mkVHXgRLT4bB"
      },
      "source": [
        "X_train = pd.read_csv('/content/drive/MyDrive/ML_Project/data/fake-news/title_seq_data/word_seq_train.csv')\n",
        "X_test = pd.read_csv('/content/drive/MyDrive/ML_Project/data/fake-news/title_seq_data/word_seq_test.csv')\n",
        "X_valid = pd.read_csv('/content/drive/MyDrive/ML_Project/data/fake-news/title_seq_data/word_seq_valid.csv')\n",
        "\n",
        "y_train = pd.read_csv('/content/drive/MyDrive/ML_Project/data/fake-news/label_seq_data/train_label.csv')\n",
        "y_test = pd.read_csv('/content/drive/MyDrive/ML_Project/data/fake-news/label_seq_data/test_label.csv')\n",
        "y_valid = pd.read_csv('/content/drive/MyDrive/ML_Project/data/fake-news/label_seq_data/valid_label.csv')\n",
        "\n",
        "vocab_size = int(np.loadtxt('/content/drive/MyDrive/ML_Project/data/fake-news/vocab_size_title.txt'))"
      ],
      "execution_count": 4,
      "outputs": []
    },
    {
      "cell_type": "code",
      "metadata": {
        "colab": {
          "base_uri": "https://localhost:8080/"
        },
        "id": "lHsYK9Q_fBWW",
        "outputId": "27c2d3ca-2e22-4ed9-e39b-39126e65ca25"
      },
      "source": [
        "print(vocab_size)"
      ],
      "execution_count": 5,
      "outputs": [
        {
          "output_type": "stream",
          "name": "stdout",
          "text": [
            "22625\n"
          ]
        }
      ]
    },
    {
      "cell_type": "code",
      "metadata": {
        "colab": {
          "base_uri": "https://localhost:8080/"
        },
        "id": "jMMs8tbuXEQV",
        "outputId": "62ca11c2-9683-41db-a619-c3b4381a291e"
      },
      "source": [
        "X_train.shape, X_test.shape, X_valid.shape"
      ],
      "execution_count": 6,
      "outputs": [
        {
          "output_type": "execute_result",
          "data": {
            "text/plain": [
              "((10942, 30), (3652, 30), (3617, 30))"
            ]
          },
          "metadata": {},
          "execution_count": 6
        }
      ]
    },
    {
      "cell_type": "markdown",
      "metadata": {
        "id": "suaXG0PU35T8"
      },
      "source": [
        "## LSTM"
      ]
    },
    {
      "cell_type": "markdown",
      "metadata": {
        "id": "mjDrxCNog9-k"
      },
      "source": [
        "The LSTM model includes:\n",
        "- a layer of embeddings, \n",
        "- Dropout(0.4), \n",
        "- LSTM(4), \n",
        "- Dropout(0.4), \n",
        "- fully connected layer with 100 units and activation function ReLu,\n",
        "- Dropout(0.5) and fully connected layer with activation function sigmoid. \n",
        "\n",
        "LSTM network was trained on full-text data using the first 1200 words of the articles (because of memory limitations)."
      ]
    },
    {
      "cell_type": "code",
      "metadata": {
        "colab": {
          "base_uri": "https://localhost:8080/"
        },
        "id": "UA2WXEAIXUJt",
        "outputId": "694fce8c-8f7c-4664-e340-38b83f6b44fc"
      },
      "source": [
        "model = Sequential()\n",
        "model.add(Embedding(input_dim=vocab_size, input_length=30, output_dim=4))\n",
        "model.add(Dropout(rate=0.4))\n",
        "model.add(LSTM(units=4))\n",
        "model.add(Dropout(rate=0.4))\n",
        "model.add(Dense(units=100,  activation='relu'))\n",
        "model.add(Dropout(rate=0.5))\n",
        "model.add(Dense(units=2, activation='sigmoid'))\n",
        "\n",
        "model.summary()"
      ],
      "execution_count": 7,
      "outputs": [
        {
          "output_type": "stream",
          "name": "stdout",
          "text": [
            "Model: \"sequential\"\n",
            "_________________________________________________________________\n",
            " Layer (type)                Output Shape              Param #   \n",
            "=================================================================\n",
            " embedding (Embedding)       (None, 30, 4)             90500     \n",
            "                                                                 \n",
            " dropout (Dropout)           (None, 30, 4)             0         \n",
            "                                                                 \n",
            " lstm (LSTM)                 (None, 4)                 144       \n",
            "                                                                 \n",
            " dropout_1 (Dropout)         (None, 4)                 0         \n",
            "                                                                 \n",
            " dense (Dense)               (None, 100)               500       \n",
            "                                                                 \n",
            " dropout_2 (Dropout)         (None, 100)               0         \n",
            "                                                                 \n",
            " dense_1 (Dense)             (None, 2)                 202       \n",
            "                                                                 \n",
            "=================================================================\n",
            "Total params: 91,346\n",
            "Trainable params: 91,346\n",
            "Non-trainable params: 0\n",
            "_________________________________________________________________\n"
          ]
        }
      ]
    },
    {
      "cell_type": "code",
      "metadata": {
        "id": "Atl4bwyfYFqq"
      },
      "source": [
        "model.compile(optimizer = 'adam', loss = 'sparse_categorical_crossentropy', metrics = ['accuracy'])"
      ],
      "execution_count": 8,
      "outputs": []
    },
    {
      "cell_type": "code",
      "metadata": {
        "colab": {
          "base_uri": "https://localhost:8080/"
        },
        "id": "BjdVWBBGX5ZM",
        "outputId": "ae980743-89e1-4df8-b567-8888f4e08178"
      },
      "source": [
        "history = model.fit(\n",
        "    X_train, \n",
        "    y_train, \n",
        "    validation_data=[X_valid, y_valid],\n",
        "    epochs = 5\n",
        ")"
      ],
      "execution_count": 9,
      "outputs": [
        {
          "output_type": "stream",
          "name": "stdout",
          "text": [
            "Epoch 1/5\n",
            "342/342 [==============================] - 12s 14ms/step - loss: 0.4444 - accuracy: 0.7759 - val_loss: 0.2088 - val_accuracy: 0.9071\n",
            "Epoch 2/5\n",
            "342/342 [==============================] - 4s 11ms/step - loss: 0.2038 - accuracy: 0.9154 - val_loss: 0.1847 - val_accuracy: 0.9184\n",
            "Epoch 3/5\n",
            "342/342 [==============================] - 4s 11ms/step - loss: 0.1459 - accuracy: 0.9413 - val_loss: 0.1808 - val_accuracy: 0.9289\n",
            "Epoch 4/5\n",
            "342/342 [==============================] - 4s 11ms/step - loss: 0.1113 - accuracy: 0.9563 - val_loss: 0.1946 - val_accuracy: 0.9276\n",
            "Epoch 5/5\n",
            "342/342 [==============================] - 4s 11ms/step - loss: 0.0877 - accuracy: 0.9656 - val_loss: 0.2149 - val_accuracy: 0.9259\n"
          ]
        }
      ]
    },
    {
      "cell_type": "code",
      "metadata": {
        "colab": {
          "base_uri": "https://localhost:8080/",
          "height": 573
        },
        "id": "FQekDhFOuH-r",
        "outputId": "c1d502fc-b188-4d53-b7c8-b876b8bc453b"
      },
      "source": [
        "plot_history(history)"
      ],
      "execution_count": 11,
      "outputs": [
        {
          "output_type": "display_data",
          "data": {
            "image/png": "[encoded data removed]",
            "text/plain": [
              "<Figure size 432x288 with 1 Axes>"
            ]
          },
          "metadata": {
            "needs_background": "light"
          }
        },
        {
          "output_type": "display_data",
          "data": {
            "image/png": "[encoded data removed]",
            "text/plain": [
              "<Figure size 432x288 with 1 Axes>"
            ]
          },
          "metadata": {
            "needs_background": "light"
          }
        }
      ]
    },
    {
      "cell_type": "code",
      "metadata": {
        "colab": {
          "base_uri": "https://localhost:8080/"
        },
        "id": "aQVqdf_Xt_ww",
        "outputId": "cdd6b08e-2f67-4221-f062-0169338c1765"
      },
      "source": [
        "score, acc = model.evaluate(X_test, y_test)\n",
        "print('Test score:', score)\n",
        "print('Test accuracy:', acc)"
      ],
      "execution_count": 13,
      "outputs": [
        {
          "output_type": "stream",
          "name": "stdout",
          "text": [
            "115/115 [==============================] - 1s 5ms/step - loss: 0.2306 - accuracy: 0.9184\n",
            "Test score: 0.23062476515769958\n",
            "Test accuracy: 0.9184008836746216\n"
          ]
        }
      ]
    },
    {
      "cell_type": "code",
      "metadata": {
        "id": "iugIUyrvmffz"
      },
      "source": [
        "y_probas = model.predict(X_test)\n",
        "y_pred = y_probas.argmax(axis=-1)"
      ],
      "execution_count": 14,
      "outputs": []
    },
    {
      "cell_type": "code",
      "metadata": {
        "colab": {
          "base_uri": "https://localhost:8080/"
        },
        "id": "7K202FaBt_D9",
        "outputId": "9ee6a635-f694-4990-88eb-39f90ac1944c"
      },
      "source": [
        "print(classification_report(y_true=y_test, y_pred=y_pred))"
      ],
      "execution_count": 15,
      "outputs": [
        {
          "output_type": "stream",
          "name": "stdout",
          "text": [
            "              precision    recall  f1-score   support\n",
            "\n",
            "           0       0.93      0.93      0.93      2042\n",
            "           1       0.91      0.90      0.91      1610\n",
            "\n",
            "    accuracy                           0.92      3652\n",
            "   macro avg       0.92      0.92      0.92      3652\n",
            "weighted avg       0.92      0.92      0.92      3652\n",
            "\n"
          ]
        }
      ]
    },
    {
      "cell_type": "code",
      "metadata": {
        "colab": {
          "base_uri": "https://localhost:8080/",
          "height": 374
        },
        "id": "mK_iLHVMuevh",
        "outputId": "632335d7-de62-45c3-bd35-63af367fafa6"
      },
      "source": [
        "cm = confusion_matrix(y_test, y_pred)\n",
        "plt.figure(figsize=[8, 6])\n",
        "sns.heatmap(cm, annot=True, fmt='d')\n",
        "plt.show()"
      ],
      "execution_count": 16,
      "outputs": [
        {
          "output_type": "display_data",
          "data": {
            "image/png": "[encoded data removed]",
            "text/plain": [
              "<Figure size 576x432 with 2 Axes>"
            ]
          },
          "metadata": {
            "needs_background": "light"
          }
        }
      ]
    },
    {
      "cell_type": "markdown",
      "metadata": {
        "id": "u7SBOIqK391A"
      },
      "source": [
        "## Bi-LSTM"
      ]
    },
    {
      "cell_type": "markdown",
      "metadata": {
        "id": "ljJP3P4v391A"
      },
      "source": [
        "The Bi-LSTM model includes:\n",
        "- a layer of embeddings, \n",
        "- Dropout(0.4), \n",
        "- Bi-LSTM(4), \n",
        "- Dropout(0.4), \n",
        "- fully connected layer with 100 units and activation function ReLu,\n",
        "- Dropout(0.5) and fully connected layer with activation function sigmoid. \n",
        "\n",
        "Bi-LSTM network was trained on full-text data using the first 1200 words of the articles (because of memory limitations)."
      ]
    },
    {
      "cell_type": "code",
      "metadata": {
        "colab": {
          "base_uri": "https://localhost:8080/"
        },
        "id": "eQ5b3Bsn391B",
        "outputId": "bebc251e-1c97-4edd-b77d-bd16b7713132"
      },
      "source": [
        "model = Sequential()\n",
        "model.add(Embedding(input_dim=vocab_size, input_length=30, output_dim=4))\n",
        "model.add(Dropout(rate=0.4))\n",
        "model.add(Bidirectional(LSTM(units=4)))\n",
        "model.add(Dropout(rate=0.4))\n",
        "model.add(Dense(units=100,  activation='relu'))\n",
        "model.add(Dropout(rate=0.5))\n",
        "model.add(Dense(units=2, activation='sigmoid'))\n",
        "\n",
        "model.summary()"
      ],
      "execution_count": 17,
      "outputs": [
        {
          "output_type": "stream",
          "name": "stdout",
          "text": [
            "Model: \"sequential_1\"\n",
            "_________________________________________________________________\n",
            " Layer (type)                Output Shape              Param #   \n",
            "=================================================================\n",
            " embedding_1 (Embedding)     (None, 30, 4)             90500     \n",
            "                                                                 \n",
            " dropout_3 (Dropout)         (None, 30, 4)             0         \n",
            "                                                                 \n",
            " bidirectional (Bidirectiona  (None, 8)                288       \n",
            " l)                                                              \n",
            "                                                                 \n",
            " dropout_4 (Dropout)         (None, 8)                 0         \n",
            "                                                                 \n",
            " dense_2 (Dense)             (None, 100)               900       \n",
            "                                                                 \n",
            " dropout_5 (Dropout)         (None, 100)               0         \n",
            "                                                                 \n",
            " dense_3 (Dense)             (None, 2)                 202       \n",
            "                                                                 \n",
            "=================================================================\n",
            "Total params: 91,890\n",
            "Trainable params: 91,890\n",
            "Non-trainable params: 0\n",
            "_________________________________________________________________\n"
          ]
        }
      ]
    },
    {
      "cell_type": "code",
      "metadata": {
        "id": "oqG91HDo391C"
      },
      "source": [
        "model.compile(optimizer = 'adam', loss = 'sparse_categorical_crossentropy', metrics = ['accuracy'])"
      ],
      "execution_count": 18,
      "outputs": []
    },
    {
      "cell_type": "code",
      "metadata": {
        "colab": {
          "base_uri": "https://localhost:8080/"
        },
        "id": "P1ugGjyv391C",
        "outputId": "b40eeb2e-8fe4-4d4c-aaec-0d431fc2fce9"
      },
      "source": [
        "history = model.fit(\n",
        "    X_train, \n",
        "    y_train, \n",
        "    validation_data=[X_valid, y_valid],\n",
        "    epochs = 5\n",
        ")"
      ],
      "execution_count": 19,
      "outputs": [
        {
          "output_type": "stream",
          "name": "stdout",
          "text": [
            "Epoch 1/5\n",
            "342/342 [==============================] - 11s 21ms/step - loss: 0.4238 - accuracy: 0.7843 - val_loss: 0.2154 - val_accuracy: 0.8991\n",
            "Epoch 2/5\n",
            "342/342 [==============================] - 6s 18ms/step - loss: 0.1937 - accuracy: 0.9172 - val_loss: 0.1820 - val_accuracy: 0.9229\n",
            "Epoch 3/5\n",
            "342/342 [==============================] - 7s 19ms/step - loss: 0.1343 - accuracy: 0.9471 - val_loss: 0.1822 - val_accuracy: 0.9289\n",
            "Epoch 4/5\n",
            "342/342 [==============================] - 7s 19ms/step - loss: 0.0954 - accuracy: 0.9610 - val_loss: 0.2035 - val_accuracy: 0.9267\n",
            "Epoch 5/5\n",
            "342/342 [==============================] - 7s 19ms/step - loss: 0.0777 - accuracy: 0.9695 - val_loss: 0.2277 - val_accuracy: 0.9265\n"
          ]
        }
      ]
    },
    {
      "cell_type": "code",
      "metadata": {
        "colab": {
          "base_uri": "https://localhost:8080/",
          "height": 573
        },
        "id": "LhA-TX1IupBZ",
        "outputId": "11659836-572f-45a2-a722-a9372737850b"
      },
      "source": [
        "plot_history(history)"
      ],
      "execution_count": 20,
      "outputs": [
        {
          "output_type": "display_data",
          "data": {
            "image/png": "[encoded data removed]",
            "text/plain": [
              "<Figure size 432x288 with 1 Axes>"
            ]
          },
          "metadata": {
            "needs_background": "light"
          }
        },
        {
          "output_type": "display_data",
          "data": {
            "image/png": "[encoded data removed]",
            "text/plain": [
              "<Figure size 432x288 with 1 Axes>"
            ]
          },
          "metadata": {
            "needs_background": "light"
          }
        }
      ]
    },
    {
      "cell_type": "code",
      "metadata": {
        "colab": {
          "base_uri": "https://localhost:8080/"
        },
        "id": "DT8tTkVouoJt",
        "outputId": "cf1ca912-2b22-4873-9daf-533e985b6ae5"
      },
      "source": [
        "score, acc = model.evaluate(X_test, y_test)\n",
        "print('Test score:', score)\n",
        "print('Test accuracy:', acc)"
      ],
      "execution_count": 21,
      "outputs": [
        {
          "output_type": "stream",
          "name": "stdout",
          "text": [
            "115/115 [==============================] - 1s 7ms/step - loss: 0.2552 - accuracy: 0.9181\n",
            "Test score: 0.2551579177379608\n",
            "Test accuracy: 0.9181270599365234\n"
          ]
        }
      ]
    },
    {
      "cell_type": "code",
      "metadata": {
        "id": "Q33ayXcN391C"
      },
      "source": [
        "y_probas = model.predict(X_test)\n",
        "y_pred = y_probas.argmax(axis=-1)"
      ],
      "execution_count": 22,
      "outputs": []
    },
    {
      "cell_type": "code",
      "metadata": {
        "colab": {
          "base_uri": "https://localhost:8080/"
        },
        "id": "RstG1HfX391D",
        "outputId": "b00715b9-f001-48e5-95dc-9525a053a393"
      },
      "source": [
        "print(classification_report(y_true=y_test, y_pred=y_pred))"
      ],
      "execution_count": 23,
      "outputs": [
        {
          "output_type": "stream",
          "name": "stdout",
          "text": [
            "              precision    recall  f1-score   support\n",
            "\n",
            "           0       0.92      0.93      0.93      2042\n",
            "           1       0.91      0.90      0.91      1610\n",
            "\n",
            "    accuracy                           0.92      3652\n",
            "   macro avg       0.92      0.92      0.92      3652\n",
            "weighted avg       0.92      0.92      0.92      3652\n",
            "\n"
          ]
        }
      ]
    },
    {
      "cell_type": "code",
      "metadata": {
        "colab": {
          "base_uri": "https://localhost:8080/",
          "height": 374
        },
        "id": "Pdn6UFT7391D",
        "outputId": "4308bc57-8eb2-4c3f-eddd-6c8ea18b6f53"
      },
      "source": [
        "cm = confusion_matrix(y_test, y_pred)\n",
        "plt.figure(figsize=[8, 6])\n",
        "sns.heatmap(cm, annot=True, fmt='d')\n",
        "plt.show()"
      ],
      "execution_count": null,
      "outputs": [
        {
          "output_type": "display_data",
          "data": {
            "image/png": "[encoded data removed]",
            "text/plain": [
              "<Figure size 576x432 with 2 Axes>"
            ]
          },
          "metadata": {
            "needs_background": "light"
          }
        }
      ]
    },
    {
      "cell_type": "markdown",
      "metadata": {
        "id": "YTQsSVacNfzb"
      },
      "source": [
        "# Text"
      ]
    },
    {
      "cell_type": "code",
      "metadata": {
        "id": "fjxDtLeNNfzo"
      },
      "source": [
        "X_train = pd.read_csv('/content/drive/MyDrive/ML_Project/data/fake-news/text_seq_data/word_seq_train.csv')\n",
        "X_test = pd.read_csv('/content/drive/MyDrive/ML_Project/data/fake-news/text_seq_data/word_seq_test.csv')\n",
        "X_valid = pd.read_csv('/content/drive/MyDrive/ML_Project/data/fake-news/text_seq_data/word_seq_valid.csv')\n",
        "\n",
        "y_train = pd.read_csv('/content/drive/MyDrive/ML_Project/data/fake-news/label_seq_data/train_label.csv')\n",
        "y_test = pd.read_csv('/content/drive/MyDrive/ML_Project/data/fake-news/label_seq_data/test_label.csv')\n",
        "y_valid = pd.read_csv('/content/drive/MyDrive/ML_Project/data/fake-news/label_seq_data/valid_label.csv')\n",
        "\n",
        "vocab_size = int(np.loadtxt('/content/drive/MyDrive/ML_Project/data/fake-news/vocab_size_text.txt'))"
      ],
      "execution_count": 24,
      "outputs": []
    },
    {
      "cell_type": "code",
      "metadata": {
        "colab": {
          "base_uri": "https://localhost:8080/"
        },
        "id": "n2piI6h3Nfzp",
        "outputId": "e42d68b6-a86f-48d2-b808-b6eb9239d6dd"
      },
      "source": [
        "print(vocab_size)"
      ],
      "execution_count": 25,
      "outputs": [
        {
          "output_type": "stream",
          "name": "stdout",
          "text": [
            "193874\n"
          ]
        }
      ]
    },
    {
      "cell_type": "code",
      "metadata": {
        "colab": {
          "base_uri": "https://localhost:8080/"
        },
        "id": "qxsxEKwANfzq",
        "outputId": "12a8f81a-7845-4c58-d684-ed8730207779"
      },
      "source": [
        "X_train.shape, X_test.shape, X_valid.shape"
      ],
      "execution_count": 26,
      "outputs": [
        {
          "output_type": "execute_result",
          "data": {
            "text/plain": [
              "((10942, 1200), (3652, 1200), (3617, 1200))"
            ]
          },
          "metadata": {},
          "execution_count": 26
        }
      ]
    },
    {
      "cell_type": "markdown",
      "metadata": {
        "id": "3w9UbrL2Nfzq"
      },
      "source": [
        "## LSTM"
      ]
    },
    {
      "cell_type": "markdown",
      "metadata": {
        "id": "ye4xz5ldNfzq"
      },
      "source": [
        "The LSTM model includes:\n",
        "- a layer of embeddings, \n",
        "- Dropout(0.4), \n",
        "- LSTM(4), \n",
        "- Dropout(0.4), \n",
        "- fully connected layer with 100 units and activation function ReLu,\n",
        "- Dropout(0.5) and fully connected layer with activation function sigmoid. \n",
        "\n",
        "LSTM network was trained on full-text data using the first 1200 words of the articles (because of memory limitations)."
      ]
    },
    {
      "cell_type": "code",
      "metadata": {
        "colab": {
          "base_uri": "https://localhost:8080/"
        },
        "id": "iUauQMuDNfzr",
        "outputId": "5d620636-9aa5-4ba3-85ba-ffe20a25e2c4"
      },
      "source": [
        "model = Sequential()\n",
        "model.add(Embedding(input_dim=vocab_size, input_length=1200, output_dim=4))\n",
        "model.add(Dropout(rate=0.4))\n",
        "model.add(LSTM(units=4))\n",
        "model.add(Dropout(rate=0.4))\n",
        "model.add(Dense(units=100,  activation='relu'))\n",
        "model.add(Dropout(rate=0.5))\n",
        "model.add(Dense(units=2, activation='sigmoid'))\n",
        "\n",
        "model.summary()"
      ],
      "execution_count": 34,
      "outputs": [
        {
          "output_type": "stream",
          "name": "stdout",
          "text": [
            "Model: \"sequential_3\"\n",
            "_________________________________________________________________\n",
            " Layer (type)                Output Shape              Param #   \n",
            "=================================================================\n",
            " embedding_3 (Embedding)     (None, 1200, 4)           775496    \n",
            "                                                                 \n",
            " dropout_9 (Dropout)         (None, 1200, 4)           0         \n",
            "                                                                 \n",
            " lstm_3 (LSTM)               (None, 4)                 144       \n",
            "                                                                 \n",
            " dropout_10 (Dropout)        (None, 4)                 0         \n",
            "                                                                 \n",
            " dense_6 (Dense)             (None, 100)               500       \n",
            "                                                                 \n",
            " dropout_11 (Dropout)        (None, 100)               0         \n",
            "                                                                 \n",
            " dense_7 (Dense)             (None, 2)                 202       \n",
            "                                                                 \n",
            "=================================================================\n",
            "Total params: 776,342\n",
            "Trainable params: 776,342\n",
            "Non-trainable params: 0\n",
            "_________________________________________________________________\n"
          ]
        }
      ]
    },
    {
      "cell_type": "code",
      "metadata": {
        "id": "DMky7awENfzr"
      },
      "source": [
        "model.compile(optimizer = 'adam', loss = 'sparse_categorical_crossentropy', metrics = ['accuracy'])"
      ],
      "execution_count": 35,
      "outputs": []
    },
    {
      "cell_type": "code",
      "metadata": {
        "colab": {
          "base_uri": "https://localhost:8080/"
        },
        "id": "dEztK_GlNfzs",
        "outputId": "7c1b21da-82e9-46ef-fbf8-80b162a77d60"
      },
      "source": [
        "history = model.fit(\n",
        "    X_train, \n",
        "    y_train, \n",
        "    validation_data=[X_valid, y_valid],\n",
        "    epochs = 5\n",
        ")"
      ],
      "execution_count": 36,
      "outputs": [
        {
          "output_type": "stream",
          "name": "stdout",
          "text": [
            "Epoch 1/5\n",
            "342/342 [==============================] - 55s 153ms/step - loss: 0.5015 - accuracy: 0.7315 - val_loss: 0.2078 - val_accuracy: 0.9245\n",
            "Epoch 2/5\n",
            "342/342 [==============================] - 51s 150ms/step - loss: 0.2406 - accuracy: 0.9104 - val_loss: 0.1992 - val_accuracy: 0.9259\n",
            "Epoch 3/5\n",
            "342/342 [==============================] - 51s 150ms/step - loss: 0.1486 - accuracy: 0.9432 - val_loss: 0.1619 - val_accuracy: 0.9442\n",
            "Epoch 4/5\n",
            "342/342 [==============================] - 51s 150ms/step - loss: 0.0988 - accuracy: 0.9612 - val_loss: 0.1810 - val_accuracy: 0.9439\n",
            "Epoch 5/5\n",
            "342/342 [==============================] - 51s 150ms/step - loss: 0.0929 - accuracy: 0.9636 - val_loss: 0.2543 - val_accuracy: 0.9234\n"
          ]
        }
      ]
    },
    {
      "cell_type": "code",
      "metadata": {
        "colab": {
          "base_uri": "https://localhost:8080/",
          "height": 573
        },
        "id": "yf5qZFPfvOxT",
        "outputId": "acaa1746-27fe-4ca4-e8cd-10aa8908e9c4"
      },
      "source": [
        "plot_history(history)"
      ],
      "execution_count": 37,
      "outputs": [
        {
          "output_type": "display_data",
          "data": {
            "image/png": "[encoded data removed]",
            "text/plain": [
              "<Figure size 432x288 with 1 Axes>"
            ]
          },
          "metadata": {
            "needs_background": "light"
          }
        },
        {
          "output_type": "display_data",
          "data": {
            "image/png": "[encoded data removed]",
            "text/plain": [
              "<Figure size 432x288 with 1 Axes>"
            ]
          },
          "metadata": {
            "needs_background": "light"
          }
        }
      ]
    },
    {
      "cell_type": "code",
      "metadata": {
        "colab": {
          "base_uri": "https://localhost:8080/"
        },
        "id": "fpSCnc7vvNKN",
        "outputId": "53c8f135-2b08-4328-f404-4919dbd51b36"
      },
      "source": [
        "score, acc = model.evaluate(X_test, y_test)\n",
        "print('Test score:', score)\n",
        "print('Test accuracy:', acc)"
      ],
      "execution_count": 38,
      "outputs": [
        {
          "output_type": "stream",
          "name": "stdout",
          "text": [
            "115/115 [==============================] - 7s 62ms/step - loss: 0.2395 - accuracy: 0.9272\n",
            "Test score: 0.23948697745800018\n",
            "Test accuracy: 0.9271631836891174\n"
          ]
        }
      ]
    },
    {
      "cell_type": "code",
      "metadata": {
        "id": "DGv8KB3sNfzs"
      },
      "source": [
        "y_probas = model.predict(X_test)\n",
        "y_pred = y_probas.argmax(axis=-1)"
      ],
      "execution_count": 39,
      "outputs": []
    },
    {
      "cell_type": "code",
      "metadata": {
        "colab": {
          "base_uri": "https://localhost:8080/"
        },
        "id": "zApc47x0Nfzs",
        "outputId": "bc4c31be-3885-4f70-a064-77770f6ce265"
      },
      "source": [
        "print(classification_report(y_true=y_test, y_pred=y_pred))"
      ],
      "execution_count": 40,
      "outputs": [
        {
          "output_type": "stream",
          "name": "stdout",
          "text": [
            "              precision    recall  f1-score   support\n",
            "\n",
            "           0       0.98      0.89      0.93      2042\n",
            "           1       0.88      0.97      0.92      1610\n",
            "\n",
            "    accuracy                           0.93      3652\n",
            "   macro avg       0.93      0.93      0.93      3652\n",
            "weighted avg       0.93      0.93      0.93      3652\n",
            "\n"
          ]
        }
      ]
    },
    {
      "cell_type": "code",
      "metadata": {
        "colab": {
          "base_uri": "https://localhost:8080/",
          "height": 374
        },
        "id": "JG2GemL_Nfzt",
        "outputId": "b949a9e1-b5a5-4a58-d8e5-2b8ca7e7241a"
      },
      "source": [
        "cm = confusion_matrix(y_test, y_pred)\n",
        "plt.figure(figsize=[8, 6])\n",
        "sns.heatmap(cm, annot=True, fmt='d')\n",
        "plt.show()"
      ],
      "execution_count": 41,
      "outputs": [
        {
          "output_type": "display_data",
          "data": {
            "image/png": "[encoded data removed]",
            "text/plain": [
              "<Figure size 576x432 with 2 Axes>"
            ]
          },
          "metadata": {
            "needs_background": "light"
          }
        }
      ]
    },
    {
      "cell_type": "markdown",
      "metadata": {
        "id": "zo_no0IDNfzt"
      },
      "source": [
        "## Bi-LSTM"
      ]
    },
    {
      "cell_type": "markdown",
      "metadata": {
        "id": "w1TM8so3Nfzt"
      },
      "source": [
        "The Bi-LSTM model includes:\n",
        "- a layer of embeddings, \n",
        "- Dropout(0.4), \n",
        "- Bi-LSTM(4), \n",
        "- Dropout(0.4), \n",
        "- fully connected layer with 100 units and activation function ReLu,\n",
        "- Dropout(0.5) and fully connected layer with activation function sigmoid. \n",
        "\n",
        "Bi-LSTM network was trained on full-text data using the first 1200 words of the articles (because of memory limitations)."
      ]
    },
    {
      "cell_type": "code",
      "metadata": {
        "colab": {
          "base_uri": "https://localhost:8080/"
        },
        "id": "NvFVkr5UNfzu",
        "outputId": "9eeac4f2-e109-43f8-cd1c-20423c001b1b"
      },
      "source": [
        "model = Sequential()\n",
        "model.add(Embedding(input_dim=vocab_size, input_length=1200, output_dim=4))\n",
        "model.add(Dropout(rate=0.4))\n",
        "model.add(Bidirectional(LSTM(units=4)))\n",
        "model.add(Dropout(rate=0.4))\n",
        "model.add(Dense(units=100,  activation='relu'))\n",
        "model.add(Dropout(rate=0.5))\n",
        "model.add(Dense(units=2, activation='sigmoid'))\n",
        "\n",
        "model.summary()"
      ],
      "execution_count": 42,
      "outputs": [
        {
          "output_type": "stream",
          "name": "stdout",
          "text": [
            "Model: \"sequential_4\"\n",
            "_________________________________________________________________\n",
            " Layer (type)                Output Shape              Param #   \n",
            "=================================================================\n",
            " embedding_4 (Embedding)     (None, 1200, 4)           775496    \n",
            "                                                                 \n",
            " dropout_12 (Dropout)        (None, 1200, 4)           0         \n",
            "                                                                 \n",
            " bidirectional_1 (Bidirectio  (None, 8)                288       \n",
            " nal)                                                            \n",
            "                                                                 \n",
            " dropout_13 (Dropout)        (None, 8)                 0         \n",
            "                                                                 \n",
            " dense_8 (Dense)             (None, 100)               900       \n",
            "                                                                 \n",
            " dropout_14 (Dropout)        (None, 100)               0         \n",
            "                                                                 \n",
            " dense_9 (Dense)             (None, 2)                 202       \n",
            "                                                                 \n",
            "=================================================================\n",
            "Total params: 776,886\n",
            "Trainable params: 776,886\n",
            "Non-trainable params: 0\n",
            "_________________________________________________________________\n"
          ]
        }
      ]
    },
    {
      "cell_type": "code",
      "metadata": {
        "id": "0QjZlEIyNfzu"
      },
      "source": [
        "model.compile(optimizer = 'adam', loss = 'sparse_categorical_crossentropy', metrics = ['accuracy'])"
      ],
      "execution_count": 43,
      "outputs": []
    },
    {
      "cell_type": "code",
      "metadata": {
        "colab": {
          "base_uri": "https://localhost:8080/"
        },
        "id": "j0EHQqI6Nfzu",
        "outputId": "df1cd00e-0566-48f9-e0e9-a9e380b10c0a"
      },
      "source": [
        "history = model.fit(\n",
        "    X_train, \n",
        "    y_train, \n",
        "    validation_data=[X_valid, y_valid],\n",
        "    epochs = 5\n",
        ")"
      ],
      "execution_count": 44,
      "outputs": [
        {
          "output_type": "stream",
          "name": "stdout",
          "text": [
            "Epoch 1/5\n",
            "342/342 [==============================] - 110s 312ms/step - loss: 0.5599 - accuracy: 0.6903 - val_loss: 0.2569 - val_accuracy: 0.9002\n",
            "Epoch 2/5\n",
            "342/342 [==============================] - 105s 307ms/step - loss: 0.2799 - accuracy: 0.8901 - val_loss: 0.2928 - val_accuracy: 0.8999\n",
            "Epoch 3/5\n",
            "342/342 [==============================] - 105s 306ms/step - loss: 0.1767 - accuracy: 0.9342 - val_loss: 0.1500 - val_accuracy: 0.9458\n",
            "Epoch 4/5\n",
            "342/342 [==============================] - 106s 309ms/step - loss: 0.1068 - accuracy: 0.9631 - val_loss: 0.2551 - val_accuracy: 0.9207\n",
            "Epoch 5/5\n",
            "342/342 [==============================] - 106s 309ms/step - loss: 0.0865 - accuracy: 0.9693 - val_loss: 0.1554 - val_accuracy: 0.9489\n"
          ]
        }
      ]
    },
    {
      "cell_type": "code",
      "metadata": {
        "colab": {
          "base_uri": "https://localhost:8080/",
          "height": 573
        },
        "id": "QHGsLry5vYVm",
        "outputId": "7326fbc9-0e21-43bf-a9b3-7def0adc3e19"
      },
      "source": [
        "plot_history(history)"
      ],
      "execution_count": 45,
      "outputs": [
        {
          "output_type": "display_data",
          "data": {
            "image/png": "[encoded data removed]",
            "text/plain": [
              "<Figure size 432x288 with 1 Axes>"
            ]
          },
          "metadata": {
            "needs_background": "light"
          }
        },
        {
          "output_type": "display_data",
          "data": {
            "image/png": "[encoded data removed]",
            "text/plain": [
              "<Figure size 432x288 with 1 Axes>"
            ]
          },
          "metadata": {
            "needs_background": "light"
          }
        }
      ]
    },
    {
      "cell_type": "code",
      "metadata": {
        "colab": {
          "base_uri": "https://localhost:8080/"
        },
        "id": "klP-QOvZvX_c",
        "outputId": "92b9e10d-e978-4355-a7be-b1a8b1b5fd93"
      },
      "source": [
        "score, acc = model.evaluate(X_test, y_test)\n",
        "print('Test score:', score)\n",
        "print('Test accuracy:', acc)"
      ],
      "execution_count": 46,
      "outputs": [
        {
          "output_type": "stream",
          "name": "stdout",
          "text": [
            "115/115 [==============================] - 14s 120ms/step - loss: 0.1393 - accuracy: 0.9556\n",
            "Test score: 0.1392645239830017\n",
            "Test accuracy: 0.9556407332420349\n"
          ]
        }
      ]
    },
    {
      "cell_type": "code",
      "metadata": {
        "id": "8z_0Cgi1Nfzv"
      },
      "source": [
        "y_probas = model.predict(X_test)\n",
        "y_pred = y_probas.argmax(axis=-1)"
      ],
      "execution_count": 47,
      "outputs": []
    },
    {
      "cell_type": "code",
      "metadata": {
        "colab": {
          "base_uri": "https://localhost:8080/"
        },
        "id": "L_8s50fdNfzv",
        "outputId": "864d9382-bf6e-4b35-95bd-8cafb02a8f3b"
      },
      "source": [
        "print(classification_report(y_true=y_test, y_pred=y_pred))"
      ],
      "execution_count": 48,
      "outputs": [
        {
          "output_type": "stream",
          "name": "stdout",
          "text": [
            "              precision    recall  f1-score   support\n",
            "\n",
            "           0       0.95      0.98      0.96      2042\n",
            "           1       0.97      0.93      0.95      1610\n",
            "\n",
            "    accuracy                           0.96      3652\n",
            "   macro avg       0.96      0.95      0.95      3652\n",
            "weighted avg       0.96      0.96      0.96      3652\n",
            "\n"
          ]
        }
      ]
    },
    {
      "cell_type": "code",
      "metadata": {
        "colab": {
          "base_uri": "https://localhost:8080/",
          "height": 374
        },
        "id": "uz_g5ZqeNfzv",
        "outputId": "72a05c49-9cff-4cbd-a0c9-5425fc30bfe5"
      },
      "source": [
        "cm = confusion_matrix(y_test, y_pred)\n",
        "plt.figure(figsize=[8, 6])\n",
        "sns.heatmap(cm, annot=True, fmt='d')\n",
        "plt.show()"
      ],
      "execution_count": 49,
      "outputs": [
        {
          "output_type": "display_data",
          "data": {
            "image/png": "[encoded data removed]",
            "text/plain": [
              "<Figure size 576x432 with 2 Axes>"
            ]
          },
          "metadata": {
            "needs_background": "light"
          }
        }
      ]
    }
  ]
}