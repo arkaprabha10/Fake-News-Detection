{
  "cells": [
    {
      "cell_type": "code",
      "execution_count": 1,
      "metadata": {
        "id": "3REDj4qgrgWv"
      },
      "outputs": [],
      "source": [
        "import numpy as np\n",
        "import pandas as pd\n",
        "from sklearn.linear_model import LogisticRegression\n",
        "from sklearn.metrics import classification_report"
      ]
    },
    {
      "cell_type": "code",
      "execution_count": 3,
      "metadata": {
        "id": "Mf5oKlqNr-Jq"
      },
      "outputs": [],
      "source": [
        "X_train = pd.read_csv('../data/liar_dataset/text_seq_data/word_seq_train.csv')\n",
        "X_valid = pd.read_csv('../data/liar_dataset/text_seq_data/word_seq_valid.csv')\n",
        "X_test = pd.read_csv('../data/liar_dataset/text_seq_data/word_seq_test.csv')"
      ]
    },
    {
      "cell_type": "code",
      "execution_count": 24,
      "metadata": {
        "id": "6_pCAPsTsAvw"
      },
      "outputs": [],
      "source": [
        "y_train = pd.read_csv('../data/liar_dataset/label_seq_data/train_label.csv')\n",
        "y_valid = pd.read_csv('../data/liar_dataset/label_seq_data/valid_label.csv')\n",
        "y_test = pd.read_csv('../data/liar_dataset/label_seq_data/test_label.csv')"
      ]
    },
    {
      "cell_type": "code",
      "execution_count": 26,
      "metadata": {
        "id": "HFOpibT8sLPH"
      },
      "outputs": [],
      "source": [
        "X_train = np.array(X_train)\n",
        "X_valid = np.array(X_valid)\n",
        "X_test = np.array(X_test)\n",
        "\n",
        "y_train = np.ravel(y_train)\n",
        "y_valid = np.ravel(y_valid)\n",
        "y_test = np.ravel(y_test)"
      ]
    },
    {
      "cell_type": "code",
      "execution_count": null,
      "metadata": {
        "id": "HgqQSlroO0eQ"
      },
      "outputs": [],
      "source": [
        "import matplotlib.pyplot as plt\n",
        "import seaborn as sns\n",
        "from sklearn.metrics import confusion_matrix\n",
        "\n",
        "def plot_cm(y_true,y_pred,labels):\n",
        "  cm = confusion_matrix(y_true, y_pred)\n",
        "  ax= plt.subplot()\n",
        "  sns.heatmap(cm, annot=True, ax = ax, fmt=\"d\")\n",
        "  ax.set_title('Confusion Matrix')\n",
        "  ax.set_xlabel('Predicted Labels')\n",
        "  ax.set_ylabel('True Labels')\n",
        "  ax.xaxis.set_ticklabels(labels)\n",
        "  ax.yaxis.set_ticklabels(labels)\n",
        "  plt.show()"
      ]
    },
    {
      "cell_type": "code",
      "execution_count": null,
      "metadata": {
        "id": "7Ah3NGbtPA2K"
      },
      "outputs": [],
      "source": [
        "labels=[-3,-2,-1,1,2,3]"
      ]
    },
    {
      "cell_type": "markdown",
      "metadata": {
        "id": "_0N8PQAQ92lK"
      },
      "source": [
        "## Multinomial classification"
      ]
    },
    {
      "cell_type": "code",
      "execution_count": null,
      "metadata": {
        "id": "RGNmJgA_90eU"
      },
      "outputs": [],
      "source": [
        "clf = LogisticRegression(random_state=0, max_iter=10000, multi_class='multinomial').fit(X_train, y_train)"
      ]
    },
    {
      "cell_type": "markdown",
      "metadata": {
        "id": "EI0w8kAE-ilB"
      },
      "source": [
        "validation"
      ]
    },
    {
      "cell_type": "code",
      "execution_count": null,
      "metadata": {
        "id": "n2qQe30C90eY"
      },
      "outputs": [],
      "source": [
        "y_pred_valid = clf.predict(X_valid)"
      ]
    },
    {
      "cell_type": "code",
      "execution_count": null,
      "metadata": {
        "colab": {
          "base_uri": "https://localhost:8080/",
          "height": 645
        },
        "id": "BJQd8d1O90eY",
        "outputId": "9d0964ae-b407-408c-8ca0-cb0ebc5a81e1"
      },
      "outputs": [
        {
          "name": "stderr",
          "output_type": "stream",
          "text": [
            "/usr/local/lib/python3.7/dist-packages/sklearn/metrics/_classification.py:1308: UndefinedMetricWarning: Precision and F-score are ill-defined and being set to 0.0 in labels with no predicted samples. Use `zero_division` parameter to control this behavior.\n",
            "  _warn_prf(average, modifier, msg_start, len(result))\n",
            "/usr/local/lib/python3.7/dist-packages/sklearn/metrics/_classification.py:1308: UndefinedMetricWarning: Precision and F-score are ill-defined and being set to 0.0 in labels with no predicted samples. Use `zero_division` parameter to control this behavior.\n",
            "  _warn_prf(average, modifier, msg_start, len(result))\n",
            "/usr/local/lib/python3.7/dist-packages/sklearn/metrics/_classification.py:1308: UndefinedMetricWarning: Precision and F-score are ill-defined and being set to 0.0 in labels with no predicted samples. Use `zero_division` parameter to control this behavior.\n",
            "  _warn_prf(average, modifier, msg_start, len(result))\n"
          ]
        },
        {
          "name": "stdout",
          "output_type": "stream",
          "text": [
            "              precision    recall  f1-score   support\n",
            "\n",
            "          -3       0.00      0.00      0.00        98\n",
            "          -2       0.25      0.47      0.33       241\n",
            "          -1       0.19      0.02      0.04       220\n",
            "           1       0.25      0.46      0.32       233\n",
            "           2       0.22      0.22      0.22       233\n",
            "           3       0.07      0.02      0.03       158\n",
            "\n",
            "    accuracy                           0.24      1183\n",
            "   macro avg       0.16      0.20      0.16      1183\n",
            "weighted avg       0.19      0.24      0.19      1183\n",
            "\n"
          ]
        },
        {
          "data": {
            "image/png": "[encoded data removed]",
            "text/plain": [
              "<Figure size 432x288 with 2 Axes>"
            ]
          },
          "metadata": {},
          "output_type": "display_data"
        }
      ],
      "source": [
        "print(classification_report(y_true=y_valid, y_pred=y_pred_valid))\n",
        "plot_cm(y_valid,y_pred_valid,labels)"
      ]
    },
    {
      "cell_type": "code",
      "execution_count": null,
      "metadata": {
        "colab": {
          "base_uri": "https://localhost:8080/"
        },
        "id": "RVAEEw8790eZ",
        "outputId": "351ff244-8e13-414d-c361-cbc9f8621af2"
      },
      "outputs": [
        {
          "data": {
            "text/plain": [
              "0.2375316990701606"
            ]
          },
          "metadata": {},
          "output_type": "display_data"
        }
      ],
      "source": [
        "clf.score(X_valid, y_valid)"
      ]
    },
    {
      "cell_type": "markdown",
      "metadata": {
        "id": "6O_xR2Xf-kiD"
      },
      "source": [
        "testing"
      ]
    },
    {
      "cell_type": "code",
      "execution_count": null,
      "metadata": {
        "id": "rAuURu7G90eV"
      },
      "outputs": [],
      "source": [
        "y_pred_test = clf.predict(X_test)"
      ]
    },
    {
      "cell_type": "code",
      "execution_count": null,
      "metadata": {
        "colab": {
          "base_uri": "https://localhost:8080/",
          "height": 521
        },
        "id": "rsaNGlFr90eV",
        "outputId": "59f9a56c-3704-495d-dc59-239becb52f60"
      },
      "outputs": [
        {
          "name": "stdout",
          "output_type": "stream",
          "text": [
            "              precision    recall  f1-score   support\n",
            "\n",
            "          -3       0.00      0.00      0.00        83\n",
            "          -2       0.20      0.41      0.27       222\n",
            "          -1       0.25      0.03      0.05       195\n",
            "           1       0.21      0.35      0.26       246\n",
            "           2       0.19      0.18      0.18       222\n",
            "           3       0.22      0.07      0.10       199\n",
            "\n",
            "    accuracy                           0.20      1167\n",
            "   macro avg       0.18      0.17      0.14      1167\n",
            "weighted avg       0.20      0.20      0.17      1167\n",
            "\n"
          ]
        },
        {
          "data": {
            "image/png": "[encoded data removed]",
            "text/plain": [
              "<Figure size 432x288 with 2 Axes>"
            ]
          },
          "metadata": {},
          "output_type": "display_data"
        }
      ],
      "source": [
        "print(classification_report(y_true=y_test, y_pred=y_pred_test))\n",
        "plot_cm(y_test,y_pred_test,labels)"
      ]
    },
    {
      "cell_type": "code",
      "execution_count": null,
      "metadata": {
        "colab": {
          "base_uri": "https://localhost:8080/"
        },
        "id": "iRf-GpJt90eX",
        "outputId": "594b1fe3-1731-4141-8c5d-7a1a0805f811"
      },
      "outputs": [
        {
          "data": {
            "text/plain": [
              "0.20137103684661525"
            ]
          },
          "metadata": {},
          "output_type": "display_data"
        }
      ],
      "source": [
        "clf.score(X_test, y_test)"
      ]
    },
    {
      "cell_type": "markdown",
      "metadata": {
        "id": "zG_3EjSA-Jzd"
      },
      "source": [
        "## Binary classification"
      ]
    },
    {
      "cell_type": "code",
      "execution_count": null,
      "metadata": {
        "id": "uSf9Z6alxbtd"
      },
      "outputs": [],
      "source": [
        "y_valid2 = [(1 if y_valid[i]>0 else 0) for i in range(len(y_valid))]\n",
        "y_test2 = [(1 if y_test[i]>0 else 0) for i in range(len(y_test))]\n",
        "y_train2 = [(1 if y_train[i]>0 else 0) for i in range(len(y_train))]"
      ]
    },
    {
      "cell_type": "code",
      "execution_count": null,
      "metadata": {
        "id": "uNi_9bx0sN_H"
      },
      "outputs": [],
      "source": [
        "clf = LogisticRegression(random_state=0, max_iter=10000).fit(X_train, y_train2)"
      ]
    },
    {
      "cell_type": "markdown",
      "metadata": {
        "id": "3SR9eLnP-b1U"
      },
      "source": [
        "validation"
      ]
    },
    {
      "cell_type": "code",
      "execution_count": null,
      "metadata": {
        "id": "zP_A-khdw7i1"
      },
      "outputs": [],
      "source": [
        "y_pred_valid2 = clf.predict(X_valid)"
      ]
    },
    {
      "cell_type": "code",
      "execution_count": null,
      "metadata": {
        "id": "PYMYwiE9PdFE"
      },
      "outputs": [],
      "source": [
        "labels=[0,1]"
      ]
    },
    {
      "cell_type": "code",
      "execution_count": null,
      "metadata": {
        "colab": {
          "base_uri": "https://localhost:8080/",
          "height": 451
        },
        "id": "LIfSl4G0w7i9",
        "outputId": "9d95caa2-4a1f-4a1c-aa1d-b3e45d2ca809"
      },
      "outputs": [
        {
          "name": "stdout",
          "output_type": "stream",
          "text": [
            "              precision    recall  f1-score   support\n",
            "\n",
            "           0       0.61      0.05      0.09       559\n",
            "           1       0.53      0.97      0.69       624\n",
            "\n",
            "    accuracy                           0.54      1183\n",
            "   macro avg       0.57      0.51      0.39      1183\n",
            "weighted avg       0.57      0.54      0.41      1183\n",
            "\n"
          ]
        },
        {
          "data": {
            "image/png": "[encoded data removed]",
            "text/plain": [
              "<Figure size 432x288 with 2 Axes>"
            ]
          },
          "metadata": {},
          "output_type": "display_data"
        }
      ],
      "source": [
        "print(classification_report(y_true=y_valid2, y_pred=y_pred_valid2))\n",
        "plot_cm(y_valid2,y_pred_valid2,labels)"
      ]
    },
    {
      "cell_type": "code",
      "execution_count": null,
      "metadata": {
        "colab": {
          "base_uri": "https://localhost:8080/"
        },
        "id": "2cz2Jl18w7i9",
        "outputId": "3ea79fb8-f758-4458-c45c-16de7a30fde0"
      },
      "outputs": [
        {
          "data": {
            "text/plain": [
              "0.5393068469991547"
            ]
          },
          "metadata": {},
          "output_type": "display_data"
        }
      ],
      "source": [
        "clf.score(X_valid, y_valid2)"
      ]
    },
    {
      "cell_type": "markdown",
      "metadata": {
        "id": "AjZURg3O-ZEB"
      },
      "source": [
        "testing"
      ]
    },
    {
      "cell_type": "code",
      "execution_count": null,
      "metadata": {
        "id": "5_hLOG-zsPz6"
      },
      "outputs": [],
      "source": [
        "y_pred_test2 = clf.predict(X_test)"
      ]
    },
    {
      "cell_type": "code",
      "execution_count": null,
      "metadata": {
        "colab": {
          "base_uri": "https://localhost:8080/",
          "height": 451
        },
        "id": "gBS-OESCsR3d",
        "outputId": "c5d41768-d96b-4389-c2fe-6cc52a3fe8dd"
      },
      "outputs": [
        {
          "name": "stdout",
          "output_type": "stream",
          "text": [
            "              precision    recall  f1-score   support\n",
            "\n",
            "           0       0.40      0.04      0.07       500\n",
            "           1       0.57      0.96      0.72       667\n",
            "\n",
            "    accuracy                           0.56      1167\n",
            "   macro avg       0.49      0.50      0.39      1167\n",
            "weighted avg       0.50      0.56      0.44      1167\n",
            "\n"
          ]
        },
        {
          "data": {
            "image/png": "[encoded data removed]",
            "text/plain": [
              "<Figure size 432x288 with 2 Axes>"
            ]
          },
          "metadata": {},
          "output_type": "display_data"
        }
      ],
      "source": [
        "print(classification_report(y_true=y_test2, y_pred=y_pred_test2))\n",
        "plot_cm(y_test2,y_pred_test2,labels)"
      ]
    },
    {
      "cell_type": "code",
      "execution_count": null,
      "metadata": {
        "colab": {
          "base_uri": "https://localhost:8080/"
        },
        "id": "sIj-7d3VsTuF",
        "outputId": "754a3ad2-48c6-48ba-9ab5-1746e26447bf"
      },
      "outputs": [
        {
          "data": {
            "text/plain": [
              "0.5638389031705227"
            ]
          },
          "metadata": {},
          "output_type": "display_data"
        }
      ],
      "source": [
        "clf.score(X_test, y_test2)"
      ]
    },
    {
      "cell_type": "code",
      "execution_count": null,
      "metadata": {
        "id": "uHyT7DO_DLA3"
      },
      "outputs": [],
      "source": []
    }
  ],
  "metadata": {
    "colab": {
      "collapsed_sections": [],
      "name": "logistic-liar.ipynb",
      "provenance": []
    },
    "kernelspec": {
      "display_name": "Python 3",
      "name": "python3"
    },
    "language_info": {
      "name": "python"
    }
  },
  "nbformat": 4,
  "nbformat_minor": 0
}
