{
  "cells": [
    {
      "cell_type": "code",
      "execution_count": 1,
      "metadata": {
        "id": "e6G90SW7AyAp"
      },
      "outputs": [],
      "source": [
        "import numpy as np\n",
        "import pandas as pd\n",
        "from sklearn import svm\n",
        "from sklearn.metrics import classification_report\n",
        "from sklearn.preprocessing import MinMaxScaler"
      ]
    },
    {
      "cell_type": "code",
      "execution_count": 4,
      "metadata": {
        "id": "69PG4pNRAyAs"
      },
      "outputs": [],
      "source": [
        "X_train = pd.read_csv('../data/liar_dataset/text_seq_data/word_seq_train.csv')\n",
        "X_valid = pd.read_csv('../data/liar_dataset/text_seq_data/word_seq_valid.csv')\n",
        "X_test = pd.read_csv('../data/liar_dataset/text_seq_data/word_seq_test.csv')"
      ]
    },
    {
      "cell_type": "code",
      "execution_count": 5,
      "metadata": {
        "id": "BNA-3pz_AyAt"
      },
      "outputs": [],
      "source": [
        "y_train = pd.read_csv('../data/liar_dataset/label_seq_data/train_label.csv')\n",
        "y_valid = pd.read_csv('../data/liar_dataset/label_seq_data/valid_label.csv')\n",
        "y_test = pd.read_csv('../data/liar_dataset/label_seq_data/test_label.csv')"
      ]
    },
    {
      "cell_type": "code",
      "execution_count": 6,
      "metadata": {
        "id": "M381TOb-AyAt"
      },
      "outputs": [],
      "source": [
        "X_train = MinMaxScaler().fit_transform(np.array(X_train))\n",
        "X_valid = MinMaxScaler().fit_transform(np.array(X_valid))\n",
        "X_test = MinMaxScaler().fit_transform(np.array(X_test))\n",
        "y_train = np.ravel(y_train)\n",
        "y_valid = np.ravel(y_valid)\n",
        "y_test = np.ravel(y_test)"
      ]
    },
    {
      "cell_type": "markdown",
      "metadata": {
        "id": "URt3swR2BjLg"
      },
      "source": [
        "## Multiclass classification\n",
        "\n",
        "best: rbf\n",
        "* valid : 0.25\n",
        "* test  : 0.20\n"
      ]
    },
    {
      "cell_type": "code",
      "execution_count": 7,
      "metadata": {
        "colab": {
          "base_uri": "https://localhost:8080/"
        },
        "id": "Gyw883mgZppy",
        "outputId": "1e1236e9-e224-4c80-fbd4-78f02bd6bd22"
      },
      "outputs": [
        {
          "name": "stdout",
          "output_type": "stream",
          "text": [
            "Kernel: linear\n",
            "Validation\n",
            "              precision    recall  f1-score   support\n",
            "\n",
            "          -3       0.00      0.00      0.00        98\n",
            "          -2       0.24      0.57      0.34       241\n",
            "          -1       0.25      0.00      0.01       220\n",
            "           1       0.25      0.48      0.33       233\n",
            "           2       0.22      0.15      0.18       233\n",
            "           3       0.00      0.00      0.00       158\n",
            "\n",
            "    accuracy                           0.24      1183\n",
            "   macro avg       0.16      0.20      0.14      1183\n",
            "weighted avg       0.19      0.24      0.17      1183\n",
            "\n",
            "\n",
            "Testing\n",
            "              precision    recall  f1-score   support\n",
            "\n",
            "          -3       0.00      0.00      0.00        83\n",
            "          -2       0.20      0.54      0.29       222\n",
            "          -1       0.25      0.01      0.01       195\n",
            "           1       0.20      0.35      0.26       246\n",
            "           2       0.19      0.12      0.15       222\n",
            "           3       0.00      0.00      0.00       199\n",
            "\n",
            "    accuracy                           0.20      1167\n",
            "   macro avg       0.14      0.17      0.12      1167\n",
            "weighted avg       0.16      0.20      0.14      1167\n",
            "\n"
          ]
        },
        {
          "name": "stderr",
          "output_type": "stream",
          "text": [
            "/usr/local/lib/python3.7/dist-packages/sklearn/metrics/_classification.py:1272: UndefinedMetricWarning: Precision and F-score are ill-defined and being set to 0.0 in labels with no predicted samples. Use `zero_division` parameter to control this behavior.\n",
            "  _warn_prf(average, modifier, msg_start, len(result))\n"
          ]
        }
      ],
      "source": [
        "clf = svm.SVC(kernel='linear')\n",
        "clf.fit(X_train,y_train)\n",
        "y_pred_valid = clf.predict(X_valid)\n",
        "y_pred_test = clf.predict(X_test)\n",
        "\n",
        "print('Kernel: linear')\n",
        "print('Validation')\n",
        "print(classification_report(y_valid,y_pred_valid))\n",
        "print()\n",
        "print('Testing')\n",
        "print(classification_report(y_test,y_pred_test))\n"
      ]
    },
    {
      "cell_type": "code",
      "execution_count": 10,
      "metadata": {
        "colab": {
          "base_uri": "https://localhost:8080/"
        },
        "id": "rVSGUSWyZ717",
        "outputId": "a8398090-38fd-45e7-dea2-76d487df5175"
      },
      "outputs": [
        {
          "name": "stdout",
          "output_type": "stream",
          "text": [
            "Kernel: poly\n",
            "Validation\n",
            "              precision    recall  f1-score   support\n",
            "\n",
            "          -3       0.00      0.00      0.00        98\n",
            "          -2       0.21      0.59      0.31       241\n",
            "          -1       0.17      0.02      0.04       220\n",
            "           1       0.24      0.33      0.28       233\n",
            "           2       0.23      0.13      0.17       233\n",
            "           3       0.12      0.03      0.04       158\n",
            "\n",
            "    accuracy                           0.22      1183\n",
            "   macro avg       0.16      0.18      0.14      1183\n",
            "weighted avg       0.19      0.22      0.17      1183\n",
            "\n",
            "\n",
            "Testing\n",
            "              precision    recall  f1-score   support\n",
            "\n",
            "          -3       0.00      0.00      0.00        83\n",
            "          -2       0.19      0.58      0.29       222\n",
            "          -1       0.11      0.02      0.03       195\n",
            "           1       0.22      0.28      0.25       246\n",
            "           2       0.23      0.14      0.17       222\n",
            "           3       0.10      0.02      0.03       199\n",
            "\n",
            "    accuracy                           0.20      1167\n",
            "   macro avg       0.14      0.17      0.13      1167\n",
            "weighted avg       0.16      0.20      0.15      1167\n",
            "\n",
            "\n"
          ]
        },
        {
          "name": "stderr",
          "output_type": "stream",
          "text": [
            "/usr/local/lib/python3.7/dist-packages/sklearn/metrics/_classification.py:1272: UndefinedMetricWarning: Precision and F-score are ill-defined and being set to 0.0 in labels with no predicted samples. Use `zero_division` parameter to control this behavior.\n",
            "  _warn_prf(average, modifier, msg_start, len(result))\n"
          ]
        }
      ],
      "source": [
        "clf = svm.SVC(kernel='poly')\n",
        "clf.fit(X_train,y_train)\n",
        "y_pred_valid_poly = clf.predict(X_valid)\n",
        "y_pred_test_poly = clf.predict(X_test)\n",
        "\n",
        "print('Kernel: poly')\n",
        "print('Validation')\n",
        "print(classification_report(y_valid,y_pred_valid_poly))\n",
        "print()\n",
        "print('Testing')\n",
        "print(classification_report(y_test,y_pred_test_poly))\n",
        "print()"
      ]
    },
    {
      "cell_type": "code",
      "execution_count": 8,
      "metadata": {
        "colab": {
          "base_uri": "https://localhost:8080/"
        },
        "id": "eO04ROCHaT9p",
        "outputId": "eeea9379-9559-44c2-b1b5-afb23b08ec6c"
      },
      "outputs": [
        {
          "name": "stdout",
          "output_type": "stream",
          "text": [
            "Kernel: rbf\n",
            "Validation\n",
            "              precision    recall  f1-score   support\n",
            "\n",
            "          -3       0.00      0.00      0.00        98\n",
            "          -2       0.25      0.45      0.32       241\n",
            "          -1       0.00      0.00      0.00       220\n",
            "           1       0.25      0.52      0.33       233\n",
            "           2       0.24      0.27      0.25       233\n",
            "           3       0.00      0.00      0.00       158\n",
            "\n",
            "    accuracy                           0.25      1183\n",
            "   macro avg       0.12      0.21      0.15      1183\n",
            "weighted avg       0.15      0.25      0.18      1183\n",
            "\n",
            "\n",
            "Testing\n",
            "              precision    recall  f1-score   support\n",
            "\n",
            "          -3       0.00      0.00      0.00        83\n",
            "          -2       0.20      0.41      0.27       222\n",
            "          -1       0.00      0.00      0.00       195\n",
            "           1       0.20      0.38      0.26       246\n",
            "           2       0.20      0.23      0.21       222\n",
            "           3       0.00      0.00      0.00       199\n",
            "\n",
            "    accuracy                           0.20      1167\n",
            "   macro avg       0.10      0.17      0.12      1167\n",
            "weighted avg       0.12      0.20      0.15      1167\n",
            "\n"
          ]
        },
        {
          "name": "stderr",
          "output_type": "stream",
          "text": [
            "/usr/local/lib/python3.7/dist-packages/sklearn/metrics/_classification.py:1272: UndefinedMetricWarning: Precision and F-score are ill-defined and being set to 0.0 in labels with no predicted samples. Use `zero_division` parameter to control this behavior.\n",
            "  _warn_prf(average, modifier, msg_start, len(result))\n"
          ]
        }
      ],
      "source": [
        "clf = svm.SVC(kernel='rbf')\n",
        "clf.fit(X_train,y_train)\n",
        "y_pred_valid_rbf = clf.predict(X_valid)\n",
        "y_pred_test_rbf = clf.predict(X_test)\n",
        "\n",
        "print('Kernel: rbf')\n",
        "print('Validation')\n",
        "print(classification_report(y_valid,y_pred_valid_rbf))\n",
        "print()\n",
        "print('Testing')\n",
        "print(classification_report(y_test,y_pred_test_rbf))"
      ]
    },
    {
      "cell_type": "code",
      "execution_count": 9,
      "metadata": {
        "colab": {
          "base_uri": "https://localhost:8080/"
        },
        "id": "VZ-eF9uDbITr",
        "outputId": "48e1f4ae-2494-4d3f-e8f5-8c52d16c05ad"
      },
      "outputs": [
        {
          "name": "stdout",
          "output_type": "stream",
          "text": [
            "Kernel: sigmoid\n",
            "Validation\n",
            "              precision    recall  f1-score   support\n",
            "\n",
            "          -3       0.08      0.14      0.10        98\n",
            "          -2       0.20      0.24      0.22       241\n",
            "          -1       0.17      0.00      0.01       220\n",
            "           1       0.25      0.10      0.14       233\n",
            "           2       0.20      0.09      0.12       233\n",
            "           3       0.15      0.48      0.23       158\n",
            "\n",
            "    accuracy                           0.16      1183\n",
            "   macro avg       0.17      0.18      0.14      1183\n",
            "weighted avg       0.19      0.16      0.14      1183\n",
            "\n",
            "\n",
            "Testing\n",
            "              precision    recall  f1-score   support\n",
            "\n",
            "          -3       0.08      0.18      0.11        83\n",
            "          -2       0.18      0.23      0.20       222\n",
            "          -1       0.00      0.00      0.00       195\n",
            "           1       0.27      0.09      0.14       246\n",
            "           2       0.21      0.09      0.13       222\n",
            "           3       0.16      0.42      0.24       199\n",
            "\n",
            "    accuracy                           0.17      1167\n",
            "   macro avg       0.15      0.17      0.14      1167\n",
            "weighted avg       0.17      0.17      0.14      1167\n",
            "\n"
          ]
        }
      ],
      "source": [
        "clf = svm.SVC(kernel='sigmoid')\n",
        "clf.fit(X_train,y_train)\n",
        "y_pred_valid_s = clf.predict(X_valid)\n",
        "y_pred_test_s = clf.predict(X_test)\n",
        "\n",
        "print('Kernel: sigmoid')\n",
        "print('Validation')\n",
        "print(classification_report(y_valid,y_pred_valid_s))\n",
        "print()\n",
        "print('Testing')\n",
        "print(classification_report(y_test,y_pred_test_s))\n"
      ]
    },
    {
      "cell_type": "code",
      "execution_count": 11,
      "metadata": {
        "colab": {
          "base_uri": "https://localhost:8080/"
        },
        "id": "TvXCcvrtabu_",
        "outputId": "3e2b5cfb-2e58-4749-93aa-d9075050bb69"
      },
      "outputs": [
        {
          "name": "stdout",
          "output_type": "stream",
          "text": [
            "Kernel: precomputed\n",
            "Validation\n",
            "              precision    recall  f1-score   support\n",
            "\n",
            "          -3       0.00      0.00      0.00        98\n",
            "          -2       0.24      0.57      0.34       241\n",
            "          -1       0.25      0.00      0.01       220\n",
            "           1       0.25      0.48      0.33       233\n",
            "           2       0.22      0.15      0.18       233\n",
            "           3       0.00      0.00      0.00       158\n",
            "\n",
            "    accuracy                           0.24      1183\n",
            "   macro avg       0.16      0.20      0.14      1183\n",
            "weighted avg       0.19      0.24      0.17      1183\n",
            "\n",
            "\n",
            "Testing\n",
            "              precision    recall  f1-score   support\n",
            "\n",
            "          -3       0.00      0.00      0.00        83\n",
            "          -2       0.20      0.54      0.29       222\n",
            "          -1       0.25      0.01      0.01       195\n",
            "           1       0.20      0.35      0.26       246\n",
            "           2       0.19      0.12      0.15       222\n",
            "           3       0.00      0.00      0.00       199\n",
            "\n",
            "    accuracy                           0.20      1167\n",
            "   macro avg       0.14      0.17      0.12      1167\n",
            "weighted avg       0.16      0.20      0.14      1167\n",
            "\n"
          ]
        },
        {
          "name": "stderr",
          "output_type": "stream",
          "text": [
            "/usr/local/lib/python3.7/dist-packages/sklearn/metrics/_classification.py:1272: UndefinedMetricWarning: Precision and F-score are ill-defined and being set to 0.0 in labels with no predicted samples. Use `zero_division` parameter to control this behavior.\n",
            "  _warn_prf(average, modifier, msg_start, len(result))\n"
          ]
        }
      ],
      "source": [
        "x_train_precomp = np.dot(X_train,X_train.T)\n",
        "x_test_precomp = np.dot(X_test,X_train.T)\n",
        "x_valid_precomp = np.dot(X_valid,X_train.T)\n",
        "clf = svm.SVC(kernel='precomputed')\n",
        "clf.fit(x_train_precomp,y_train)\n",
        "\n",
        "y_pred_valid_p = clf.predict(x_valid_precomp)\n",
        "y_pred_test_p = clf.predict(x_test_precomp)\n",
        "\n",
        "print('Kernel: precomputed')\n",
        "print('Validation')\n",
        "print(classification_report(y_valid,y_pred_valid_p))\n",
        "print()\n",
        "print('Testing')\n",
        "print(classification_report(y_test,y_pred_test_p))\n"
      ]
    },
    {
      "cell_type": "markdown",
      "metadata": {
        "id": "Z1mXYg0wGMHZ"
      },
      "source": [
        "**Warnings arise as there are some values which exist in y_test/valid but not in the corresponding predicted version.**"
      ]
    },
    {
      "cell_type": "code",
      "execution_count": 21,
      "metadata": {
        "colab": {
          "base_uri": "https://localhost:8080/"
        },
        "id": "FAu8FxXeGpCi",
        "outputId": "d905db59-a423-43ab-deee-3576ce239b7a"
      },
      "outputs": [
        {
          "name": "stdout",
          "output_type": "stream",
          "text": [
            "{-3}\n"
          ]
        }
      ],
      "source": [
        "print(set(y_valid) - set(y_pred_valid_p))"
      ]
    },
    {
      "cell_type": "markdown",
      "metadata": {
        "id": "ekBe6vadAyAx"
      },
      "source": [
        "## Binomial classification\n",
        "\n",
        "best: rbf\n",
        "*   valid : 0.54 \n",
        "*   test  : 0.57\n",
        "\n"
      ]
    },
    {
      "cell_type": "code",
      "execution_count": 12,
      "metadata": {
        "id": "_EL3Fp6TAyAx"
      },
      "outputs": [],
      "source": [
        "y_valid2 = [(1 if y_valid[i]>0 else 0) for i in range(len(y_valid))]\n",
        "y_test2 = [(1 if y_test[i]>0 else 0) for i in range(len(y_test))]\n",
        "y_train2 = [(1 if y_train[i]>0 else 0) for i in range(len(y_train))]"
      ]
    },
    {
      "cell_type": "code",
      "execution_count": 13,
      "metadata": {
        "colab": {
          "base_uri": "https://localhost:8080/"
        },
        "id": "QNHGnk_WB1yw",
        "outputId": "a5a79d86-e3ca-4bc4-b793-823a15d96af0"
      },
      "outputs": [
        {
          "name": "stdout",
          "output_type": "stream",
          "text": [
            "Kernel: linear\n",
            "Validation\n",
            "              precision    recall  f1-score   support\n",
            "\n",
            "           0       0.00      0.00      0.00       559\n",
            "           1       0.53      1.00      0.69       624\n",
            "\n",
            "    accuracy                           0.53      1183\n",
            "   macro avg       0.26      0.50      0.34      1183\n",
            "weighted avg       0.28      0.53      0.36      1183\n",
            "\n",
            "\n",
            "Testing\n",
            "              precision    recall  f1-score   support\n",
            "\n",
            "           0       0.00      0.00      0.00       500\n",
            "           1       0.57      1.00      0.73       667\n",
            "\n",
            "    accuracy                           0.57      1167\n",
            "   macro avg       0.29      0.50      0.36      1167\n",
            "weighted avg       0.33      0.57      0.42      1167\n",
            "\n"
          ]
        },
        {
          "name": "stderr",
          "output_type": "stream",
          "text": [
            "/usr/local/lib/python3.7/dist-packages/sklearn/metrics/_classification.py:1272: UndefinedMetricWarning: Precision and F-score are ill-defined and being set to 0.0 in labels with no predicted samples. Use `zero_division` parameter to control this behavior.\n",
            "  _warn_prf(average, modifier, msg_start, len(result))\n"
          ]
        }
      ],
      "source": [
        "clf2 = svm.SVC(kernel='linear')\n",
        "clf2.fit(X_train,y_train2)\n",
        "y_pred_valid2 = clf2.predict(X_valid)\n",
        "y_pred_test2 = clf2.predict(X_test)\n",
        "\n",
        "print('Kernel: linear')\n",
        "print('Validation')\n",
        "print(classification_report(y_valid2,y_pred_valid2))\n",
        "print()\n",
        "print('Testing')\n",
        "print(classification_report(y_test2,y_pred_test2))\n"
      ]
    },
    {
      "cell_type": "code",
      "execution_count": 15,
      "metadata": {
        "colab": {
          "base_uri": "https://localhost:8080/"
        },
        "id": "7xhug6BxB1y0",
        "outputId": "8ec9d111-0484-4ccc-f755-3180f62d7692"
      },
      "outputs": [
        {
          "name": "stdout",
          "output_type": "stream",
          "text": [
            "Kernel: poly\n",
            "Validation\n",
            "              precision    recall  f1-score   support\n",
            "\n",
            "           0       0.19      0.01      0.01       559\n",
            "           1       0.52      0.97      0.68       624\n",
            "\n",
            "    accuracy                           0.52      1183\n",
            "   macro avg       0.36      0.49      0.35      1183\n",
            "weighted avg       0.37      0.52      0.37      1183\n",
            "\n",
            "\n",
            "Testing\n",
            "              precision    recall  f1-score   support\n",
            "\n",
            "           0       0.38      0.01      0.01       500\n",
            "           1       0.57      0.99      0.73       667\n",
            "\n",
            "    accuracy                           0.57      1167\n",
            "   macro avg       0.47      0.50      0.37      1167\n",
            "weighted avg       0.49      0.57      0.42      1167\n",
            "\n",
            "\n"
          ]
        }
      ],
      "source": [
        "clf2 = svm.SVC(kernel='poly')\n",
        "clf2.fit(X_train,y_train2)\n",
        "y_pred_valid_poly2 = clf2.predict(X_valid)\n",
        "y_pred_test_poly2 = clf2.predict(X_test)\n",
        "\n",
        "print('Kernel: poly')\n",
        "print('Validation')\n",
        "print(classification_report(y_valid2,y_pred_valid_poly2))\n",
        "print()\n",
        "print('Testing')\n",
        "print(classification_report(y_test2,y_pred_test_poly2))\n",
        "print()"
      ]
    },
    {
      "cell_type": "code",
      "execution_count": 16,
      "metadata": {
        "colab": {
          "base_uri": "https://localhost:8080/"
        },
        "id": "iWGpWJ2zB1y0",
        "outputId": "9d3ebd85-d83b-4a55-92e6-0fbcba87eee2"
      },
      "outputs": [
        {
          "name": "stdout",
          "output_type": "stream",
          "text": [
            "Kernel: rbf\n",
            "Validation\n",
            "              precision    recall  f1-score   support\n",
            "\n",
            "           0       0.62      0.06      0.12       559\n",
            "           1       0.54      0.96      0.69       624\n",
            "\n",
            "    accuracy                           0.54      1183\n",
            "   macro avg       0.58      0.51      0.40      1183\n",
            "weighted avg       0.58      0.54      0.42      1183\n",
            "\n",
            "\n",
            "Testing\n",
            "              precision    recall  f1-score   support\n",
            "\n",
            "           0       0.45      0.06      0.10       500\n",
            "           1       0.57      0.95      0.71       667\n",
            "\n",
            "    accuracy                           0.57      1167\n",
            "   macro avg       0.51      0.50      0.41      1167\n",
            "weighted avg       0.52      0.57      0.45      1167\n",
            "\n"
          ]
        }
      ],
      "source": [
        "clf2 = svm.SVC(kernel='rbf')\n",
        "clf2.fit(X_train,y_train2)\n",
        "y_pred_valid_rbf2 = clf2.predict(X_valid)\n",
        "y_pred_test_rbf2 = clf2.predict(X_test)\n",
        "\n",
        "print('Kernel: rbf')\n",
        "print('Validation')\n",
        "print(classification_report(y_valid2,y_pred_valid_rbf2))\n",
        "print()\n",
        "print('Testing')\n",
        "print(classification_report(y_test2,y_pred_test_rbf2))"
      ]
    },
    {
      "cell_type": "code",
      "execution_count": 17,
      "metadata": {
        "colab": {
          "base_uri": "https://localhost:8080/"
        },
        "id": "LLuTLaxWB1y1",
        "outputId": "a5a9253e-adb8-47c5-e652-e50b0e12f688"
      },
      "outputs": [
        {
          "name": "stdout",
          "output_type": "stream",
          "text": [
            "Kernel: sigmoid\n",
            "Validation\n",
            "              precision    recall  f1-score   support\n",
            "\n",
            "           0       0.49      0.42      0.45       559\n",
            "           1       0.54      0.61      0.57       624\n",
            "\n",
            "    accuracy                           0.52      1183\n",
            "   macro avg       0.52      0.52      0.51      1183\n",
            "weighted avg       0.52      0.52      0.52      1183\n",
            "\n",
            "\n",
            "Testing\n",
            "              precision    recall  f1-score   support\n",
            "\n",
            "           0       0.44      0.42      0.43       500\n",
            "           1       0.58      0.61      0.59       667\n",
            "\n",
            "    accuracy                           0.53      1167\n",
            "   macro avg       0.51      0.51      0.51      1167\n",
            "weighted avg       0.52      0.53      0.52      1167\n",
            "\n"
          ]
        }
      ],
      "source": [
        "clf2 = svm.SVC(kernel='sigmoid')\n",
        "clf2.fit(X_train,y_train2)\n",
        "y_pred_valid_s2 = clf2.predict(X_valid)\n",
        "y_pred_test_s2 = clf2.predict(X_test)\n",
        "\n",
        "print('Kernel: sigmoid')\n",
        "print('Validation')\n",
        "print(classification_report(y_valid2,y_pred_valid_s2))\n",
        "print()\n",
        "print('Testing')\n",
        "print(classification_report(y_test2,y_pred_test_s2))\n"
      ]
    },
    {
      "cell_type": "code",
      "execution_count": 18,
      "metadata": {
        "colab": {
          "base_uri": "https://localhost:8080/"
        },
        "id": "Xu6Qwb4vB1y1",
        "outputId": "1123a4bf-03c1-4817-9633-245c5eb64fd4"
      },
      "outputs": [
        {
          "name": "stdout",
          "output_type": "stream",
          "text": [
            "Kernel: precomputed\n",
            "Validation\n",
            "              precision    recall  f1-score   support\n",
            "\n",
            "           0       0.00      0.00      0.00       559\n",
            "           1       0.53      1.00      0.69       624\n",
            "\n",
            "    accuracy                           0.53      1183\n",
            "   macro avg       0.26      0.50      0.34      1183\n",
            "weighted avg       0.28      0.53      0.36      1183\n",
            "\n",
            "\n",
            "Testing\n",
            "              precision    recall  f1-score   support\n",
            "\n",
            "           0       0.00      0.00      0.00       500\n",
            "           1       0.57      1.00      0.73       667\n",
            "\n",
            "    accuracy                           0.57      1167\n",
            "   macro avg       0.29      0.50      0.36      1167\n",
            "weighted avg       0.33      0.57      0.42      1167\n",
            "\n"
          ]
        },
        {
          "name": "stderr",
          "output_type": "stream",
          "text": [
            "/usr/local/lib/python3.7/dist-packages/sklearn/metrics/_classification.py:1272: UndefinedMetricWarning: Precision and F-score are ill-defined and being set to 0.0 in labels with no predicted samples. Use `zero_division` parameter to control this behavior.\n",
            "  _warn_prf(average, modifier, msg_start, len(result))\n"
          ]
        }
      ],
      "source": [
        "x_train_precomp = np.dot(X_train,X_train.T)\n",
        "x_test_precomp = np.dot(X_test,X_train.T)\n",
        "x_valid_precomp = np.dot(X_valid,X_train.T)\n",
        "clf2 = svm.SVC(kernel='precomputed')\n",
        "clf2.fit(x_train_precomp,y_train2)\n",
        "\n",
        "y_pred_valid_p2 = clf2.predict(x_valid_precomp)\n",
        "y_pred_test_p2 = clf2.predict(x_test_precomp)\n",
        "\n",
        "print('Kernel: precomputed')\n",
        "print('Validation')\n",
        "print(classification_report(y_valid2,y_pred_valid_p2))\n",
        "print()\n",
        "print('Testing')\n",
        "print(classification_report(y_test2,y_pred_test_p2))\n"
      ]
    },
    {
      "cell_type": "code",
      "execution_count": null,
      "metadata": {
        "id": "1pZks2_sDq-x"
      },
      "outputs": [],
      "source": []
    }
  ],
  "metadata": {
    "colab": {
      "collapsed_sections": [],
      "name": "svm-liar.ipynb",
      "provenance": []
    },
    "interpreter": {
      "hash": "cf2350cba43e1d06d9c1f803cf97a1d209fb9586cdf73481a8f23553c7381136"
    },
    "kernelspec": {
      "display_name": "Python 3.7.1 64-bit ('base': conda)",
      "name": "python3"
    },
    "language_info": {
      "codemirror_mode": {
        "name": "ipython",
        "version": 3
      },
      "file_extension": ".py",
      "mimetype": "text/x-python",
      "name": "python",
      "nbconvert_exporter": "python",
      "pygments_lexer": "ipython3",
      "version": "3.7.1"
    },
    "orig_nbformat": 4
  },
  "nbformat": 4,
  "nbformat_minor": 0
}
